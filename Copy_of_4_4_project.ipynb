{
  "nbformat": 4,
  "nbformat_minor": 0,
  "metadata": {
    "colab": {
      "provenance": [],
      "include_colab_link": true
    },
    "kernelspec": {
      "name": "python3",
      "display_name": "Python 3"
    },
    "language_info": {
      "name": "python"
    }
  },
  "cells": [
    {
      "cell_type": "markdown",
      "metadata": {
        "id": "view-in-github",
        "colab_type": "text"
      },
      "source": [
        "<a href=\"https://colab.research.google.com/github/srividhyakarapa/Code-a-rangoli-challenge/blob/main/Copy_of_4_4_project.ipynb\" target=\"_parent\"><img src=\"https://colab.research.google.com/assets/colab-badge.svg\" alt=\"Open In Colab\"/></a>"
      ]
    },
    {
      "cell_type": "code",
      "execution_count": null,
      "metadata": {
        "colab": {
          "base_uri": "https://localhost:8080/",
          "height": 921
        },
        "id": "JNc6QxsPUyda",
        "outputId": "c2bf6fa5-dba1-43f8-eacc-744f6979bd0e"
      },
      "outputs": [
        {
          "output_type": "execute_result",
          "data": {
            "text/plain": [
              "     Career         Citizenship Nationality  Year since Matriculation  \\\n",
              "0      UGRD           Foreigner   Indonesia                         2   \n",
              "1      UGRD     Country Citizen   Singapore                         1   \n",
              "2      UGRD           Foreigner    Malaysia                         2   \n",
              "3      UGRD           Foreigner    Malaysia                         2   \n",
              "4      UGRD           Foreigner    Viet Nam                         3   \n",
              "...     ...                 ...         ...                       ...   \n",
              "2953   UGRD     Country Citizen   Singapore                         1   \n",
              "2954   UGRD     Country Citizen   Singapore                         2   \n",
              "2955   GRAD           Foreigner       China                         1   \n",
              "2956   GRAD           Foreigner       China                         4   \n",
              "2957   UGRD  Permanent Resident       China                         1   \n",
              "\n",
              "      Year of Study             Primary Programme Gender  \\\n",
              "0                 2           Bachelor of Science      F   \n",
              "1                 1       Bachelor of Engineering      F   \n",
              "2                 2           Bachelor of Science      M   \n",
              "3                 2       Bachelor of Engineering      M   \n",
              "4                 3       Bachelor of Engineering      F   \n",
              "...             ...                           ...    ...   \n",
              "2953              1           Bachelor of Science      F   \n",
              "2954              2  Bach. of Med.,Bach. of Surg.      M   \n",
              "2955              1   Master of Science (Track 1)      F   \n",
              "2956              4    Doctor of Philosophy (FoE)      M   \n",
              "2957              1           Bachelor of Science      F   \n",
              "\n",
              "                 Department   Housing Type  \\\n",
              "0         School of Science     Residences   \n",
              "1     School of Engineering  Out of Campus   \n",
              "2         School of Science          Halls   \n",
              "3     School of Engineering          Halls   \n",
              "4     School of Engineering  Out of Campus   \n",
              "...                     ...            ...   \n",
              "2953      School of Science  Out of Campus   \n",
              "2954    School of Medicine1  Out of Campus   \n",
              "2955      School of Science  Out of Campus   \n",
              "2956  School of Engineering  Out of Campus   \n",
              "2957      School of Science          Halls   \n",
              "\n",
              "      Q1-How many events have you Volunteered in ?  \\\n",
              "0                                                0   \n",
              "1                                                0   \n",
              "2                                                3   \n",
              "3                                                3   \n",
              "4                                                4   \n",
              "...                                            ...   \n",
              "2953                                             0   \n",
              "2954                                             1   \n",
              "2955                                             0   \n",
              "2956                                             3   \n",
              "2957                                             2   \n",
              "\n",
              "      Q2-How many events have you Participated in ?  \\\n",
              "0                                                 1   \n",
              "1                                                 1   \n",
              "2                                                 1   \n",
              "3                                                 4   \n",
              "4                                                 3   \n",
              "...                                             ...   \n",
              "2953                                              1   \n",
              "2954                                              1   \n",
              "2955                                              1   \n",
              "2956                                              2   \n",
              "2957                                              2   \n",
              "\n",
              "      Q3-How many activities are you Interested in ?  \\\n",
              "0                                                  3   \n",
              "1                                                  2   \n",
              "2                                                  1   \n",
              "3                                                  3   \n",
              "4                                                  4   \n",
              "...                                              ...   \n",
              "2953                                               5   \n",
              "2954                                               5   \n",
              "2955                                               1   \n",
              "2956                                               6   \n",
              "2957                                               4   \n",
              "\n",
              "      Q4-How many activities are you Passionate about ?  \\\n",
              "0                                                     1   \n",
              "1                                                     3   \n",
              "2                                                     5   \n",
              "3                                                     3   \n",
              "4                                                     5   \n",
              "...                                                 ...   \n",
              "2953                                                  8   \n",
              "2954                                                  2   \n",
              "2955                                                  2   \n",
              "2956                                                  2   \n",
              "2957                                                  2   \n",
              "\n",
              "      Q5-What are your levels of stress ?  \\\n",
              "0                                       1   \n",
              "1                                       1   \n",
              "2                                       2   \n",
              "3                                       7   \n",
              "4                                       4   \n",
              "...                                   ...   \n",
              "2953                                    3   \n",
              "2954                                    1   \n",
              "2955                                    1   \n",
              "2956                                    3   \n",
              "2957                                    3   \n",
              "\n",
              "      Q6-How Satisfied You are with your Student Life ?  \\\n",
              "0                                                     2   \n",
              "1                                                     2   \n",
              "2                                                     2   \n",
              "3                                                     1   \n",
              "4                                                     2   \n",
              "...                                                 ...   \n",
              "2953                                                  2   \n",
              "2954                                                  2   \n",
              "2955                                                  3   \n",
              "2956                                                  3   \n",
              "2957                                                  2   \n",
              "\n",
              "      Q7-How much effort do you make to interact with others ?  \\\n",
              "0                                                   2.0          \n",
              "1                                                   2.0          \n",
              "2                                                   2.0          \n",
              "3                                                   1.0          \n",
              "4                                                   2.0          \n",
              "...                                                 ...          \n",
              "2953                                                NaN          \n",
              "2954                                                NaN          \n",
              "2955                                                NaN          \n",
              "2956                                                NaN          \n",
              "2957                                                NaN          \n",
              "\n",
              "      Q8-About How events are you aware about ?  response_id  \\\n",
              "0                                           2.0            1   \n",
              "1                                           3.0            2   \n",
              "2                                           2.0            3   \n",
              "3                                           1.0            4   \n",
              "4                                           2.0            5   \n",
              "...                                         ...          ...   \n",
              "2953                                        NaN         2954   \n",
              "2954                                        NaN         2955   \n",
              "2955                                        NaN         2956   \n",
              "2956                                        NaN         2957   \n",
              "2957                                        NaN         2958   \n",
              "\n",
              "                     Q9-What is an ideal student life ?  \n",
              "0                                                   NaN  \n",
              "1                              Friends+CCas+good result  \n",
              "2            just want everything to go smooth. serious  \n",
              "3                                                   NaN  \n",
              "4           a mixture of both academic and non-academic  \n",
              "...                                                 ...  \n",
              "2953  The ideal student life is about able to balanc...  \n",
              "2954  Work-life balance with time for leisure activi...  \n",
              "2955                                                NaN  \n",
              "2956                                                NaN  \n",
              "2957  My ideal student life is having study-life bal...  \n",
              "\n",
              "[2958 rows x 19 columns]"
            ],
            "text/html": [
              "\n",
              "  <div id=\"df-b2ac39f1-4456-4713-8123-85df3ebb16d8\">\n",
              "    <div class=\"colab-df-container\">\n",
              "      <div>\n",
              "<style scoped>\n",
              "    .dataframe tbody tr th:only-of-type {\n",
              "        vertical-align: middle;\n",
              "    }\n",
              "\n",
              "    .dataframe tbody tr th {\n",
              "        vertical-align: top;\n",
              "    }\n",
              "\n",
              "    .dataframe thead th {\n",
              "        text-align: right;\n",
              "    }\n",
              "</style>\n",
              "<table border=\"1\" class=\"dataframe\">\n",
              "  <thead>\n",
              "    <tr style=\"text-align: right;\">\n",
              "      <th></th>\n",
              "      <th>Career</th>\n",
              "      <th>Citizenship</th>\n",
              "      <th>Nationality</th>\n",
              "      <th>Year since Matriculation</th>\n",
              "      <th>Year of Study</th>\n",
              "      <th>Primary Programme</th>\n",
              "      <th>Gender</th>\n",
              "      <th>Department</th>\n",
              "      <th>Housing Type</th>\n",
              "      <th>Q1-How many events have you Volunteered in ?</th>\n",
              "      <th>Q2-How many events have you Participated in ?</th>\n",
              "      <th>Q3-How many activities are you Interested in ?</th>\n",
              "      <th>Q4-How many activities are you Passionate about ?</th>\n",
              "      <th>Q5-What are your levels of stress ?</th>\n",
              "      <th>Q6-How Satisfied You are with your Student Life ?</th>\n",
              "      <th>Q7-How much effort do you make to interact with others ?</th>\n",
              "      <th>Q8-About How events are you aware about ?</th>\n",
              "      <th>response_id</th>\n",
              "      <th>Q9-What is an ideal student life ?</th>\n",
              "    </tr>\n",
              "  </thead>\n",
              "  <tbody>\n",
              "    <tr>\n",
              "      <th>0</th>\n",
              "      <td>UGRD</td>\n",
              "      <td>Foreigner</td>\n",
              "      <td>Indonesia</td>\n",
              "      <td>2</td>\n",
              "      <td>2</td>\n",
              "      <td>Bachelor of Science</td>\n",
              "      <td>F</td>\n",
              "      <td>School of Science</td>\n",
              "      <td>Residences</td>\n",
              "      <td>0</td>\n",
              "      <td>1</td>\n",
              "      <td>3</td>\n",
              "      <td>1</td>\n",
              "      <td>1</td>\n",
              "      <td>2</td>\n",
              "      <td>2.0</td>\n",
              "      <td>2.0</td>\n",
              "      <td>1</td>\n",
              "      <td>NaN</td>\n",
              "    </tr>\n",
              "    <tr>\n",
              "      <th>1</th>\n",
              "      <td>UGRD</td>\n",
              "      <td>Country Citizen</td>\n",
              "      <td>Singapore</td>\n",
              "      <td>1</td>\n",
              "      <td>1</td>\n",
              "      <td>Bachelor of Engineering</td>\n",
              "      <td>F</td>\n",
              "      <td>School of Engineering</td>\n",
              "      <td>Out of Campus</td>\n",
              "      <td>0</td>\n",
              "      <td>1</td>\n",
              "      <td>2</td>\n",
              "      <td>3</td>\n",
              "      <td>1</td>\n",
              "      <td>2</td>\n",
              "      <td>2.0</td>\n",
              "      <td>3.0</td>\n",
              "      <td>2</td>\n",
              "      <td>Friends+CCas+good result</td>\n",
              "    </tr>\n",
              "    <tr>\n",
              "      <th>2</th>\n",
              "      <td>UGRD</td>\n",
              "      <td>Foreigner</td>\n",
              "      <td>Malaysia</td>\n",
              "      <td>2</td>\n",
              "      <td>2</td>\n",
              "      <td>Bachelor of Science</td>\n",
              "      <td>M</td>\n",
              "      <td>School of Science</td>\n",
              "      <td>Halls</td>\n",
              "      <td>3</td>\n",
              "      <td>1</td>\n",
              "      <td>1</td>\n",
              "      <td>5</td>\n",
              "      <td>2</td>\n",
              "      <td>2</td>\n",
              "      <td>2.0</td>\n",
              "      <td>2.0</td>\n",
              "      <td>3</td>\n",
              "      <td>just want everything to go smooth. serious</td>\n",
              "    </tr>\n",
              "    <tr>\n",
              "      <th>3</th>\n",
              "      <td>UGRD</td>\n",
              "      <td>Foreigner</td>\n",
              "      <td>Malaysia</td>\n",
              "      <td>2</td>\n",
              "      <td>2</td>\n",
              "      <td>Bachelor of Engineering</td>\n",
              "      <td>M</td>\n",
              "      <td>School of Engineering</td>\n",
              "      <td>Halls</td>\n",
              "      <td>3</td>\n",
              "      <td>4</td>\n",
              "      <td>3</td>\n",
              "      <td>3</td>\n",
              "      <td>7</td>\n",
              "      <td>1</td>\n",
              "      <td>1.0</td>\n",
              "      <td>1.0</td>\n",
              "      <td>4</td>\n",
              "      <td>NaN</td>\n",
              "    </tr>\n",
              "    <tr>\n",
              "      <th>4</th>\n",
              "      <td>UGRD</td>\n",
              "      <td>Foreigner</td>\n",
              "      <td>Viet Nam</td>\n",
              "      <td>3</td>\n",
              "      <td>3</td>\n",
              "      <td>Bachelor of Engineering</td>\n",
              "      <td>F</td>\n",
              "      <td>School of Engineering</td>\n",
              "      <td>Out of Campus</td>\n",
              "      <td>4</td>\n",
              "      <td>3</td>\n",
              "      <td>4</td>\n",
              "      <td>5</td>\n",
              "      <td>4</td>\n",
              "      <td>2</td>\n",
              "      <td>2.0</td>\n",
              "      <td>2.0</td>\n",
              "      <td>5</td>\n",
              "      <td>a mixture of both academic and non-academic</td>\n",
              "    </tr>\n",
              "    <tr>\n",
              "      <th>...</th>\n",
              "      <td>...</td>\n",
              "      <td>...</td>\n",
              "      <td>...</td>\n",
              "      <td>...</td>\n",
              "      <td>...</td>\n",
              "      <td>...</td>\n",
              "      <td>...</td>\n",
              "      <td>...</td>\n",
              "      <td>...</td>\n",
              "      <td>...</td>\n",
              "      <td>...</td>\n",
              "      <td>...</td>\n",
              "      <td>...</td>\n",
              "      <td>...</td>\n",
              "      <td>...</td>\n",
              "      <td>...</td>\n",
              "      <td>...</td>\n",
              "      <td>...</td>\n",
              "      <td>...</td>\n",
              "    </tr>\n",
              "    <tr>\n",
              "      <th>2953</th>\n",
              "      <td>UGRD</td>\n",
              "      <td>Country Citizen</td>\n",
              "      <td>Singapore</td>\n",
              "      <td>1</td>\n",
              "      <td>1</td>\n",
              "      <td>Bachelor of Science</td>\n",
              "      <td>F</td>\n",
              "      <td>School of Science</td>\n",
              "      <td>Out of Campus</td>\n",
              "      <td>0</td>\n",
              "      <td>1</td>\n",
              "      <td>5</td>\n",
              "      <td>8</td>\n",
              "      <td>3</td>\n",
              "      <td>2</td>\n",
              "      <td>NaN</td>\n",
              "      <td>NaN</td>\n",
              "      <td>2954</td>\n",
              "      <td>The ideal student life is about able to balanc...</td>\n",
              "    </tr>\n",
              "    <tr>\n",
              "      <th>2954</th>\n",
              "      <td>UGRD</td>\n",
              "      <td>Country Citizen</td>\n",
              "      <td>Singapore</td>\n",
              "      <td>2</td>\n",
              "      <td>2</td>\n",
              "      <td>Bach. of Med.,Bach. of Surg.</td>\n",
              "      <td>M</td>\n",
              "      <td>School of Medicine1</td>\n",
              "      <td>Out of Campus</td>\n",
              "      <td>1</td>\n",
              "      <td>1</td>\n",
              "      <td>5</td>\n",
              "      <td>2</td>\n",
              "      <td>1</td>\n",
              "      <td>2</td>\n",
              "      <td>NaN</td>\n",
              "      <td>NaN</td>\n",
              "      <td>2955</td>\n",
              "      <td>Work-life balance with time for leisure activi...</td>\n",
              "    </tr>\n",
              "    <tr>\n",
              "      <th>2955</th>\n",
              "      <td>GRAD</td>\n",
              "      <td>Foreigner</td>\n",
              "      <td>China</td>\n",
              "      <td>1</td>\n",
              "      <td>1</td>\n",
              "      <td>Master of Science (Track 1)</td>\n",
              "      <td>F</td>\n",
              "      <td>School of Science</td>\n",
              "      <td>Out of Campus</td>\n",
              "      <td>0</td>\n",
              "      <td>1</td>\n",
              "      <td>1</td>\n",
              "      <td>2</td>\n",
              "      <td>1</td>\n",
              "      <td>3</td>\n",
              "      <td>NaN</td>\n",
              "      <td>NaN</td>\n",
              "      <td>2956</td>\n",
              "      <td>NaN</td>\n",
              "    </tr>\n",
              "    <tr>\n",
              "      <th>2956</th>\n",
              "      <td>GRAD</td>\n",
              "      <td>Foreigner</td>\n",
              "      <td>China</td>\n",
              "      <td>4</td>\n",
              "      <td>4</td>\n",
              "      <td>Doctor of Philosophy (FoE)</td>\n",
              "      <td>M</td>\n",
              "      <td>School of Engineering</td>\n",
              "      <td>Out of Campus</td>\n",
              "      <td>3</td>\n",
              "      <td>2</td>\n",
              "      <td>6</td>\n",
              "      <td>2</td>\n",
              "      <td>3</td>\n",
              "      <td>3</td>\n",
              "      <td>NaN</td>\n",
              "      <td>NaN</td>\n",
              "      <td>2957</td>\n",
              "      <td>NaN</td>\n",
              "    </tr>\n",
              "    <tr>\n",
              "      <th>2957</th>\n",
              "      <td>UGRD</td>\n",
              "      <td>Permanent Resident</td>\n",
              "      <td>China</td>\n",
              "      <td>1</td>\n",
              "      <td>1</td>\n",
              "      <td>Bachelor of Science</td>\n",
              "      <td>F</td>\n",
              "      <td>School of Science</td>\n",
              "      <td>Halls</td>\n",
              "      <td>2</td>\n",
              "      <td>2</td>\n",
              "      <td>4</td>\n",
              "      <td>2</td>\n",
              "      <td>3</td>\n",
              "      <td>2</td>\n",
              "      <td>NaN</td>\n",
              "      <td>NaN</td>\n",
              "      <td>2958</td>\n",
              "      <td>My ideal student life is having study-life bal...</td>\n",
              "    </tr>\n",
              "  </tbody>\n",
              "</table>\n",
              "<p>2958 rows × 19 columns</p>\n",
              "</div>\n",
              "      <button class=\"colab-df-convert\" onclick=\"convertToInteractive('df-b2ac39f1-4456-4713-8123-85df3ebb16d8')\"\n",
              "              title=\"Convert this dataframe to an interactive table.\"\n",
              "              style=\"display:none;\">\n",
              "        \n",
              "  <svg xmlns=\"http://www.w3.org/2000/svg\" height=\"24px\"viewBox=\"0 0 24 24\"\n",
              "       width=\"24px\">\n",
              "    <path d=\"M0 0h24v24H0V0z\" fill=\"none\"/>\n",
              "    <path d=\"M18.56 5.44l.94 2.06.94-2.06 2.06-.94-2.06-.94-.94-2.06-.94 2.06-2.06.94zm-11 1L8.5 8.5l.94-2.06 2.06-.94-2.06-.94L8.5 2.5l-.94 2.06-2.06.94zm10 10l.94 2.06.94-2.06 2.06-.94-2.06-.94-.94-2.06-.94 2.06-2.06.94z\"/><path d=\"M17.41 7.96l-1.37-1.37c-.4-.4-.92-.59-1.43-.59-.52 0-1.04.2-1.43.59L10.3 9.45l-7.72 7.72c-.78.78-.78 2.05 0 2.83L4 21.41c.39.39.9.59 1.41.59.51 0 1.02-.2 1.41-.59l7.78-7.78 2.81-2.81c.8-.78.8-2.07 0-2.86zM5.41 20L4 18.59l7.72-7.72 1.47 1.35L5.41 20z\"/>\n",
              "  </svg>\n",
              "      </button>\n",
              "      \n",
              "  <style>\n",
              "    .colab-df-container {\n",
              "      display:flex;\n",
              "      flex-wrap:wrap;\n",
              "      gap: 12px;\n",
              "    }\n",
              "\n",
              "    .colab-df-convert {\n",
              "      background-color: #E8F0FE;\n",
              "      border: none;\n",
              "      border-radius: 50%;\n",
              "      cursor: pointer;\n",
              "      display: none;\n",
              "      fill: #1967D2;\n",
              "      height: 32px;\n",
              "      padding: 0 0 0 0;\n",
              "      width: 32px;\n",
              "    }\n",
              "\n",
              "    .colab-df-convert:hover {\n",
              "      background-color: #E2EBFA;\n",
              "      box-shadow: 0px 1px 2px rgba(60, 64, 67, 0.3), 0px 1px 3px 1px rgba(60, 64, 67, 0.15);\n",
              "      fill: #174EA6;\n",
              "    }\n",
              "\n",
              "    [theme=dark] .colab-df-convert {\n",
              "      background-color: #3B4455;\n",
              "      fill: #D2E3FC;\n",
              "    }\n",
              "\n",
              "    [theme=dark] .colab-df-convert:hover {\n",
              "      background-color: #434B5C;\n",
              "      box-shadow: 0px 1px 3px 1px rgba(0, 0, 0, 0.15);\n",
              "      filter: drop-shadow(0px 1px 2px rgba(0, 0, 0, 0.3));\n",
              "      fill: #FFFFFF;\n",
              "    }\n",
              "  </style>\n",
              "\n",
              "      <script>\n",
              "        const buttonEl =\n",
              "          document.querySelector('#df-b2ac39f1-4456-4713-8123-85df3ebb16d8 button.colab-df-convert');\n",
              "        buttonEl.style.display =\n",
              "          google.colab.kernel.accessAllowed ? 'block' : 'none';\n",
              "\n",
              "        async function convertToInteractive(key) {\n",
              "          const element = document.querySelector('#df-b2ac39f1-4456-4713-8123-85df3ebb16d8');\n",
              "          const dataTable =\n",
              "            await google.colab.kernel.invokeFunction('convertToInteractive',\n",
              "                                                     [key], {});\n",
              "          if (!dataTable) return;\n",
              "\n",
              "          const docLinkHtml = 'Like what you see? Visit the ' +\n",
              "            '<a target=\"_blank\" href=https://colab.research.google.com/notebooks/data_table.ipynb>data table notebook</a>'\n",
              "            + ' to learn more about interactive tables.';\n",
              "          element.innerHTML = '';\n",
              "          dataTable['output_type'] = 'display_data';\n",
              "          await google.colab.output.renderOutput(dataTable, element);\n",
              "          const docLink = document.createElement('div');\n",
              "          docLink.innerHTML = docLinkHtml;\n",
              "          element.appendChild(docLink);\n",
              "        }\n",
              "      </script>\n",
              "    </div>\n",
              "  </div>\n",
              "  "
            ]
          },
          "metadata": {},
          "execution_count": 1
        }
      ],
      "source": [
        "import pandas as pd\n",
        "data=pd.read_csv('/content/survey_responses.csv')\n",
        "data  "
      ]
    },
    {
      "cell_type": "markdown",
      "source": [],
      "metadata": {
        "id": "BncCNjYwKvJ3"
      }
    },
    {
      "cell_type": "code",
      "source": [
        "data.shape"
      ],
      "metadata": {
        "colab": {
          "base_uri": "https://localhost:8080/"
        },
        "id": "j8DlQphPVf3q",
        "outputId": "1ac0b712-00f9-4231-a923-10244a2b812b"
      },
      "execution_count": null,
      "outputs": [
        {
          "output_type": "execute_result",
          "data": {
            "text/plain": [
              "(2958, 19)"
            ]
          },
          "metadata": {},
          "execution_count": 43
        }
      ]
    },
    {
      "cell_type": "code",
      "source": [
        "data.info()"
      ],
      "metadata": {
        "colab": {
          "base_uri": "https://localhost:8080/"
        },
        "id": "NNfZmUxSWqzI",
        "outputId": "90beb765-b927-4831-f326-46313e44ebb6"
      },
      "execution_count": null,
      "outputs": [
        {
          "output_type": "stream",
          "name": "stdout",
          "text": [
            "<class 'pandas.core.frame.DataFrame'>\n",
            "RangeIndex: 2958 entries, 0 to 2957\n",
            "Data columns (total 19 columns):\n",
            " #   Column                                                    Non-Null Count  Dtype  \n",
            "---  ------                                                    --------------  -----  \n",
            " 0   Career                                                    2958 non-null   object \n",
            " 1   Citizenship                                               2958 non-null   object \n",
            " 2   Nationality                                               2958 non-null   object \n",
            " 3   Year since Matriculation                                  2958 non-null   int64  \n",
            " 4   Year of Study                                             2958 non-null   int64  \n",
            " 5   Primary Programme                                         2958 non-null   object \n",
            " 6   Gender                                                    2958 non-null   object \n",
            " 7   Department                                                2958 non-null   object \n",
            " 8   Housing Type                                              2958 non-null   object \n",
            " 9   Q1-How many events have you Volunteered in ?              2958 non-null   int64  \n",
            " 10  Q2-How many events have you Participated in ?             2958 non-null   int64  \n",
            " 11  Q3-How many activities are you Interested in ?            2958 non-null   int64  \n",
            " 12  Q4-How many activities are you Passionate about ?         2958 non-null   int64  \n",
            " 13  Q5-What are your levels of stress ?                       2958 non-null   int64  \n",
            " 14  Q6-How Satisfied You are with your Student Life ?         2958 non-null   int64  \n",
            " 15  Q7-How much effort do you make to interact with others ?  2940 non-null   float64\n",
            " 16  Q8-About How events are you aware about ?                 2940 non-null   float64\n",
            " 17  response_id                                               2958 non-null   int64  \n",
            " 18  Q9-What is an ideal student life ?                        2371 non-null   object \n",
            "dtypes: float64(2), int64(9), object(8)\n",
            "memory usage: 439.2+ KB\n"
          ]
        }
      ]
    },
    {
      "cell_type": "code",
      "source": [
        "data.head(100)"
      ],
      "metadata": {
        "colab": {
          "base_uri": "https://localhost:8080/",
          "height": 939
        },
        "id": "pQxJ0j5TWuBw",
        "outputId": "e8850d34-b895-4fd9-ef83-698d7897fd30"
      },
      "execution_count": null,
      "outputs": [
        {
          "output_type": "execute_result",
          "data": {
            "text/plain": [
              "   Career         Citizenship Nationality  Year since Matriculation  \\\n",
              "0    UGRD           Foreigner   Indonesia                         2   \n",
              "1    UGRD     Country Citizen   Singapore                         1   \n",
              "2    UGRD           Foreigner    Malaysia                         2   \n",
              "3    UGRD           Foreigner    Malaysia                         2   \n",
              "4    UGRD           Foreigner    Viet Nam                         3   \n",
              "..    ...                 ...         ...                       ...   \n",
              "95   UGRD     Country Citizen   Singapore                         1   \n",
              "96   UGRD     Country Citizen   Singapore                         4   \n",
              "97   UGRD     Country Citizen   Singapore                         1   \n",
              "98   UGRD     Country Citizen   Singapore                         3   \n",
              "99   UGRD  Permanent Resident     Myanmar                         3   \n",
              "\n",
              "    Year of Study            Primary Programme Gender  \\\n",
              "0               2          Bachelor of Science      F   \n",
              "1               1      Bachelor of Engineering      F   \n",
              "2               2          Bachelor of Science      M   \n",
              "3               2      Bachelor of Engineering      M   \n",
              "4               3      Bachelor of Engineering      F   \n",
              "..            ...                          ...    ...   \n",
              "95              1   Bachelor of Business Admin      F   \n",
              "96              4  Bachelor of Social Sciences      F   \n",
              "97              1      Bachelor of Engineering      F   \n",
              "98              3      Bachelor of Engineering      M   \n",
              "99              3             Bachelor of Arts      F   \n",
              "\n",
              "                         Department          Housing Type  \\\n",
              "0                 School of Science            Residences   \n",
              "1             School of Engineering         Out of Campus   \n",
              "2                 School of Science                 Halls   \n",
              "3             School of Engineering                 Halls   \n",
              "4             School of Engineering         Out of Campus   \n",
              "..                              ...                   ...   \n",
              "95        School of Business School  Residential Colleges   \n",
              "96  School of Arts & Social Science         Out of Campus   \n",
              "97            School of Engineering         Out of Campus   \n",
              "98            School of Engineering         Out of Campus   \n",
              "99  School of Arts & Social Science         Out of Campus   \n",
              "\n",
              "    Q1-How many events have you Volunteered in ?  \\\n",
              "0                                              0   \n",
              "1                                              0   \n",
              "2                                              3   \n",
              "3                                              3   \n",
              "4                                              4   \n",
              "..                                           ...   \n",
              "95                                             3   \n",
              "96                                             2   \n",
              "97                                             0   \n",
              "98                                             0   \n",
              "99                                             0   \n",
              "\n",
              "    Q2-How many events have you Participated in ?  \\\n",
              "0                                               1   \n",
              "1                                               1   \n",
              "2                                               1   \n",
              "3                                               4   \n",
              "4                                               3   \n",
              "..                                            ...   \n",
              "95                                              2   \n",
              "96                                              1   \n",
              "97                                              0   \n",
              "98                                              1   \n",
              "99                                              1   \n",
              "\n",
              "    Q3-How many activities are you Interested in ?  \\\n",
              "0                                                3   \n",
              "1                                                2   \n",
              "2                                                1   \n",
              "3                                                3   \n",
              "4                                                4   \n",
              "..                                             ...   \n",
              "95                                               4   \n",
              "96                                               2   \n",
              "97                                               3   \n",
              "98                                               3   \n",
              "99                                               1   \n",
              "\n",
              "    Q4-How many activities are you Passionate about ?  \\\n",
              "0                                                   1   \n",
              "1                                                   3   \n",
              "2                                                   5   \n",
              "3                                                   3   \n",
              "4                                                   5   \n",
              "..                                                ...   \n",
              "95                                                  3   \n",
              "96                                                  1   \n",
              "97                                                  2   \n",
              "98                                                  4   \n",
              "99                                                  1   \n",
              "\n",
              "    Q5-What are your levels of stress ?  \\\n",
              "0                                     1   \n",
              "1                                     1   \n",
              "2                                     2   \n",
              "3                                     7   \n",
              "4                                     4   \n",
              "..                                  ...   \n",
              "95                                    4   \n",
              "96                                    3   \n",
              "97                                    1   \n",
              "98                                    4   \n",
              "99                                    5   \n",
              "\n",
              "    Q6-How Satisfied You are with your Student Life ?  \\\n",
              "0                                                   2   \n",
              "1                                                   2   \n",
              "2                                                   2   \n",
              "3                                                   1   \n",
              "4                                                   2   \n",
              "..                                                ...   \n",
              "95                                                  3   \n",
              "96                                                  2   \n",
              "97                                                  2   \n",
              "98                                                  2   \n",
              "99                                                  2   \n",
              "\n",
              "    Q7-How much effort do you make to interact with others ?  \\\n",
              "0                                                 2.0          \n",
              "1                                                 2.0          \n",
              "2                                                 2.0          \n",
              "3                                                 1.0          \n",
              "4                                                 2.0          \n",
              "..                                                ...          \n",
              "95                                                3.0          \n",
              "96                                                1.0          \n",
              "97                                                3.0          \n",
              "98                                                1.0          \n",
              "99                                                2.0          \n",
              "\n",
              "    Q8-About How events are you aware about ?  response_id  \\\n",
              "0                                         2.0            1   \n",
              "1                                         3.0            2   \n",
              "2                                         2.0            3   \n",
              "3                                         1.0            4   \n",
              "4                                         2.0            5   \n",
              "..                                        ...          ...   \n",
              "95                                        1.0           96   \n",
              "96                                        3.0           97   \n",
              "97                                        2.0           98   \n",
              "98                                        3.0           99   \n",
              "99                                        3.0          100   \n",
              "\n",
              "                   Q9-What is an ideal student life ?  \n",
              "0                                                 NaN  \n",
              "1                            Friends+CCas+good result  \n",
              "2          just want everything to go smooth. serious  \n",
              "3                                                 NaN  \n",
              "4         a mixture of both academic and non-academic  \n",
              "..                                                ...  \n",
              "95  An ideal student life should consist of ups an...  \n",
              "96  Good balance between academic and non-academic...  \n",
              "97                      Balance between work and life  \n",
              "98  Good balance of work, study, play and social l...  \n",
              "99                                                NaN  \n",
              "\n",
              "[100 rows x 19 columns]"
            ],
            "text/html": [
              "\n",
              "  <div id=\"df-c5451011-86b0-4f51-bcda-57cb16ac3ff4\">\n",
              "    <div class=\"colab-df-container\">\n",
              "      <div>\n",
              "<style scoped>\n",
              "    .dataframe tbody tr th:only-of-type {\n",
              "        vertical-align: middle;\n",
              "    }\n",
              "\n",
              "    .dataframe tbody tr th {\n",
              "        vertical-align: top;\n",
              "    }\n",
              "\n",
              "    .dataframe thead th {\n",
              "        text-align: right;\n",
              "    }\n",
              "</style>\n",
              "<table border=\"1\" class=\"dataframe\">\n",
              "  <thead>\n",
              "    <tr style=\"text-align: right;\">\n",
              "      <th></th>\n",
              "      <th>Career</th>\n",
              "      <th>Citizenship</th>\n",
              "      <th>Nationality</th>\n",
              "      <th>Year since Matriculation</th>\n",
              "      <th>Year of Study</th>\n",
              "      <th>Primary Programme</th>\n",
              "      <th>Gender</th>\n",
              "      <th>Department</th>\n",
              "      <th>Housing Type</th>\n",
              "      <th>Q1-How many events have you Volunteered in ?</th>\n",
              "      <th>Q2-How many events have you Participated in ?</th>\n",
              "      <th>Q3-How many activities are you Interested in ?</th>\n",
              "      <th>Q4-How many activities are you Passionate about ?</th>\n",
              "      <th>Q5-What are your levels of stress ?</th>\n",
              "      <th>Q6-How Satisfied You are with your Student Life ?</th>\n",
              "      <th>Q7-How much effort do you make to interact with others ?</th>\n",
              "      <th>Q8-About How events are you aware about ?</th>\n",
              "      <th>response_id</th>\n",
              "      <th>Q9-What is an ideal student life ?</th>\n",
              "    </tr>\n",
              "  </thead>\n",
              "  <tbody>\n",
              "    <tr>\n",
              "      <th>0</th>\n",
              "      <td>UGRD</td>\n",
              "      <td>Foreigner</td>\n",
              "      <td>Indonesia</td>\n",
              "      <td>2</td>\n",
              "      <td>2</td>\n",
              "      <td>Bachelor of Science</td>\n",
              "      <td>F</td>\n",
              "      <td>School of Science</td>\n",
              "      <td>Residences</td>\n",
              "      <td>0</td>\n",
              "      <td>1</td>\n",
              "      <td>3</td>\n",
              "      <td>1</td>\n",
              "      <td>1</td>\n",
              "      <td>2</td>\n",
              "      <td>2.0</td>\n",
              "      <td>2.0</td>\n",
              "      <td>1</td>\n",
              "      <td>NaN</td>\n",
              "    </tr>\n",
              "    <tr>\n",
              "      <th>1</th>\n",
              "      <td>UGRD</td>\n",
              "      <td>Country Citizen</td>\n",
              "      <td>Singapore</td>\n",
              "      <td>1</td>\n",
              "      <td>1</td>\n",
              "      <td>Bachelor of Engineering</td>\n",
              "      <td>F</td>\n",
              "      <td>School of Engineering</td>\n",
              "      <td>Out of Campus</td>\n",
              "      <td>0</td>\n",
              "      <td>1</td>\n",
              "      <td>2</td>\n",
              "      <td>3</td>\n",
              "      <td>1</td>\n",
              "      <td>2</td>\n",
              "      <td>2.0</td>\n",
              "      <td>3.0</td>\n",
              "      <td>2</td>\n",
              "      <td>Friends+CCas+good result</td>\n",
              "    </tr>\n",
              "    <tr>\n",
              "      <th>2</th>\n",
              "      <td>UGRD</td>\n",
              "      <td>Foreigner</td>\n",
              "      <td>Malaysia</td>\n",
              "      <td>2</td>\n",
              "      <td>2</td>\n",
              "      <td>Bachelor of Science</td>\n",
              "      <td>M</td>\n",
              "      <td>School of Science</td>\n",
              "      <td>Halls</td>\n",
              "      <td>3</td>\n",
              "      <td>1</td>\n",
              "      <td>1</td>\n",
              "      <td>5</td>\n",
              "      <td>2</td>\n",
              "      <td>2</td>\n",
              "      <td>2.0</td>\n",
              "      <td>2.0</td>\n",
              "      <td>3</td>\n",
              "      <td>just want everything to go smooth. serious</td>\n",
              "    </tr>\n",
              "    <tr>\n",
              "      <th>3</th>\n",
              "      <td>UGRD</td>\n",
              "      <td>Foreigner</td>\n",
              "      <td>Malaysia</td>\n",
              "      <td>2</td>\n",
              "      <td>2</td>\n",
              "      <td>Bachelor of Engineering</td>\n",
              "      <td>M</td>\n",
              "      <td>School of Engineering</td>\n",
              "      <td>Halls</td>\n",
              "      <td>3</td>\n",
              "      <td>4</td>\n",
              "      <td>3</td>\n",
              "      <td>3</td>\n",
              "      <td>7</td>\n",
              "      <td>1</td>\n",
              "      <td>1.0</td>\n",
              "      <td>1.0</td>\n",
              "      <td>4</td>\n",
              "      <td>NaN</td>\n",
              "    </tr>\n",
              "    <tr>\n",
              "      <th>4</th>\n",
              "      <td>UGRD</td>\n",
              "      <td>Foreigner</td>\n",
              "      <td>Viet Nam</td>\n",
              "      <td>3</td>\n",
              "      <td>3</td>\n",
              "      <td>Bachelor of Engineering</td>\n",
              "      <td>F</td>\n",
              "      <td>School of Engineering</td>\n",
              "      <td>Out of Campus</td>\n",
              "      <td>4</td>\n",
              "      <td>3</td>\n",
              "      <td>4</td>\n",
              "      <td>5</td>\n",
              "      <td>4</td>\n",
              "      <td>2</td>\n",
              "      <td>2.0</td>\n",
              "      <td>2.0</td>\n",
              "      <td>5</td>\n",
              "      <td>a mixture of both academic and non-academic</td>\n",
              "    </tr>\n",
              "    <tr>\n",
              "      <th>...</th>\n",
              "      <td>...</td>\n",
              "      <td>...</td>\n",
              "      <td>...</td>\n",
              "      <td>...</td>\n",
              "      <td>...</td>\n",
              "      <td>...</td>\n",
              "      <td>...</td>\n",
              "      <td>...</td>\n",
              "      <td>...</td>\n",
              "      <td>...</td>\n",
              "      <td>...</td>\n",
              "      <td>...</td>\n",
              "      <td>...</td>\n",
              "      <td>...</td>\n",
              "      <td>...</td>\n",
              "      <td>...</td>\n",
              "      <td>...</td>\n",
              "      <td>...</td>\n",
              "      <td>...</td>\n",
              "    </tr>\n",
              "    <tr>\n",
              "      <th>95</th>\n",
              "      <td>UGRD</td>\n",
              "      <td>Country Citizen</td>\n",
              "      <td>Singapore</td>\n",
              "      <td>1</td>\n",
              "      <td>1</td>\n",
              "      <td>Bachelor of Business Admin</td>\n",
              "      <td>F</td>\n",
              "      <td>School of Business School</td>\n",
              "      <td>Residential Colleges</td>\n",
              "      <td>3</td>\n",
              "      <td>2</td>\n",
              "      <td>4</td>\n",
              "      <td>3</td>\n",
              "      <td>4</td>\n",
              "      <td>3</td>\n",
              "      <td>3.0</td>\n",
              "      <td>1.0</td>\n",
              "      <td>96</td>\n",
              "      <td>An ideal student life should consist of ups an...</td>\n",
              "    </tr>\n",
              "    <tr>\n",
              "      <th>96</th>\n",
              "      <td>UGRD</td>\n",
              "      <td>Country Citizen</td>\n",
              "      <td>Singapore</td>\n",
              "      <td>4</td>\n",
              "      <td>4</td>\n",
              "      <td>Bachelor of Social Sciences</td>\n",
              "      <td>F</td>\n",
              "      <td>School of Arts &amp; Social Science</td>\n",
              "      <td>Out of Campus</td>\n",
              "      <td>2</td>\n",
              "      <td>1</td>\n",
              "      <td>2</td>\n",
              "      <td>1</td>\n",
              "      <td>3</td>\n",
              "      <td>2</td>\n",
              "      <td>1.0</td>\n",
              "      <td>3.0</td>\n",
              "      <td>97</td>\n",
              "      <td>Good balance between academic and non-academic...</td>\n",
              "    </tr>\n",
              "    <tr>\n",
              "      <th>97</th>\n",
              "      <td>UGRD</td>\n",
              "      <td>Country Citizen</td>\n",
              "      <td>Singapore</td>\n",
              "      <td>1</td>\n",
              "      <td>1</td>\n",
              "      <td>Bachelor of Engineering</td>\n",
              "      <td>F</td>\n",
              "      <td>School of Engineering</td>\n",
              "      <td>Out of Campus</td>\n",
              "      <td>0</td>\n",
              "      <td>0</td>\n",
              "      <td>3</td>\n",
              "      <td>2</td>\n",
              "      <td>1</td>\n",
              "      <td>2</td>\n",
              "      <td>3.0</td>\n",
              "      <td>2.0</td>\n",
              "      <td>98</td>\n",
              "      <td>Balance between work and life</td>\n",
              "    </tr>\n",
              "    <tr>\n",
              "      <th>98</th>\n",
              "      <td>UGRD</td>\n",
              "      <td>Country Citizen</td>\n",
              "      <td>Singapore</td>\n",
              "      <td>3</td>\n",
              "      <td>3</td>\n",
              "      <td>Bachelor of Engineering</td>\n",
              "      <td>M</td>\n",
              "      <td>School of Engineering</td>\n",
              "      <td>Out of Campus</td>\n",
              "      <td>0</td>\n",
              "      <td>1</td>\n",
              "      <td>3</td>\n",
              "      <td>4</td>\n",
              "      <td>4</td>\n",
              "      <td>2</td>\n",
              "      <td>1.0</td>\n",
              "      <td>3.0</td>\n",
              "      <td>99</td>\n",
              "      <td>Good balance of work, study, play and social l...</td>\n",
              "    </tr>\n",
              "    <tr>\n",
              "      <th>99</th>\n",
              "      <td>UGRD</td>\n",
              "      <td>Permanent Resident</td>\n",
              "      <td>Myanmar</td>\n",
              "      <td>3</td>\n",
              "      <td>3</td>\n",
              "      <td>Bachelor of Arts</td>\n",
              "      <td>F</td>\n",
              "      <td>School of Arts &amp; Social Science</td>\n",
              "      <td>Out of Campus</td>\n",
              "      <td>0</td>\n",
              "      <td>1</td>\n",
              "      <td>1</td>\n",
              "      <td>1</td>\n",
              "      <td>5</td>\n",
              "      <td>2</td>\n",
              "      <td>2.0</td>\n",
              "      <td>3.0</td>\n",
              "      <td>100</td>\n",
              "      <td>NaN</td>\n",
              "    </tr>\n",
              "  </tbody>\n",
              "</table>\n",
              "<p>100 rows × 19 columns</p>\n",
              "</div>\n",
              "      <button class=\"colab-df-convert\" onclick=\"convertToInteractive('df-c5451011-86b0-4f51-bcda-57cb16ac3ff4')\"\n",
              "              title=\"Convert this dataframe to an interactive table.\"\n",
              "              style=\"display:none;\">\n",
              "        \n",
              "  <svg xmlns=\"http://www.w3.org/2000/svg\" height=\"24px\"viewBox=\"0 0 24 24\"\n",
              "       width=\"24px\">\n",
              "    <path d=\"M0 0h24v24H0V0z\" fill=\"none\"/>\n",
              "    <path d=\"M18.56 5.44l.94 2.06.94-2.06 2.06-.94-2.06-.94-.94-2.06-.94 2.06-2.06.94zm-11 1L8.5 8.5l.94-2.06 2.06-.94-2.06-.94L8.5 2.5l-.94 2.06-2.06.94zm10 10l.94 2.06.94-2.06 2.06-.94-2.06-.94-.94-2.06-.94 2.06-2.06.94z\"/><path d=\"M17.41 7.96l-1.37-1.37c-.4-.4-.92-.59-1.43-.59-.52 0-1.04.2-1.43.59L10.3 9.45l-7.72 7.72c-.78.78-.78 2.05 0 2.83L4 21.41c.39.39.9.59 1.41.59.51 0 1.02-.2 1.41-.59l7.78-7.78 2.81-2.81c.8-.78.8-2.07 0-2.86zM5.41 20L4 18.59l7.72-7.72 1.47 1.35L5.41 20z\"/>\n",
              "  </svg>\n",
              "      </button>\n",
              "      \n",
              "  <style>\n",
              "    .colab-df-container {\n",
              "      display:flex;\n",
              "      flex-wrap:wrap;\n",
              "      gap: 12px;\n",
              "    }\n",
              "\n",
              "    .colab-df-convert {\n",
              "      background-color: #E8F0FE;\n",
              "      border: none;\n",
              "      border-radius: 50%;\n",
              "      cursor: pointer;\n",
              "      display: none;\n",
              "      fill: #1967D2;\n",
              "      height: 32px;\n",
              "      padding: 0 0 0 0;\n",
              "      width: 32px;\n",
              "    }\n",
              "\n",
              "    .colab-df-convert:hover {\n",
              "      background-color: #E2EBFA;\n",
              "      box-shadow: 0px 1px 2px rgba(60, 64, 67, 0.3), 0px 1px 3px 1px rgba(60, 64, 67, 0.15);\n",
              "      fill: #174EA6;\n",
              "    }\n",
              "\n",
              "    [theme=dark] .colab-df-convert {\n",
              "      background-color: #3B4455;\n",
              "      fill: #D2E3FC;\n",
              "    }\n",
              "\n",
              "    [theme=dark] .colab-df-convert:hover {\n",
              "      background-color: #434B5C;\n",
              "      box-shadow: 0px 1px 3px 1px rgba(0, 0, 0, 0.15);\n",
              "      filter: drop-shadow(0px 1px 2px rgba(0, 0, 0, 0.3));\n",
              "      fill: #FFFFFF;\n",
              "    }\n",
              "  </style>\n",
              "\n",
              "      <script>\n",
              "        const buttonEl =\n",
              "          document.querySelector('#df-c5451011-86b0-4f51-bcda-57cb16ac3ff4 button.colab-df-convert');\n",
              "        buttonEl.style.display =\n",
              "          google.colab.kernel.accessAllowed ? 'block' : 'none';\n",
              "\n",
              "        async function convertToInteractive(key) {\n",
              "          const element = document.querySelector('#df-c5451011-86b0-4f51-bcda-57cb16ac3ff4');\n",
              "          const dataTable =\n",
              "            await google.colab.kernel.invokeFunction('convertToInteractive',\n",
              "                                                     [key], {});\n",
              "          if (!dataTable) return;\n",
              "\n",
              "          const docLinkHtml = 'Like what you see? Visit the ' +\n",
              "            '<a target=\"_blank\" href=https://colab.research.google.com/notebooks/data_table.ipynb>data table notebook</a>'\n",
              "            + ' to learn more about interactive tables.';\n",
              "          element.innerHTML = '';\n",
              "          dataTable['output_type'] = 'display_data';\n",
              "          await google.colab.output.renderOutput(dataTable, element);\n",
              "          const docLink = document.createElement('div');\n",
              "          docLink.innerHTML = docLinkHtml;\n",
              "          element.appendChild(docLink);\n",
              "        }\n",
              "      </script>\n",
              "    </div>\n",
              "  </div>\n",
              "  "
            ]
          },
          "metadata": {},
          "execution_count": 45
        }
      ]
    },
    {
      "cell_type": "code",
      "source": [
        "#check for null values\n",
        "data.isnull().sum()"
      ],
      "metadata": {
        "colab": {
          "base_uri": "https://localhost:8080/"
        },
        "id": "KORPUZ0UXCbh",
        "outputId": "914bb623-504a-41f7-a830-99da1b004ee6"
      },
      "execution_count": null,
      "outputs": [
        {
          "output_type": "execute_result",
          "data": {
            "text/plain": [
              "Career                                                        0\n",
              "Citizenship                                                   0\n",
              "Nationality                                                   0\n",
              "Year since Matriculation                                      0\n",
              "Year of Study                                                 0\n",
              "Primary Programme                                             0\n",
              "Gender                                                        0\n",
              "Department                                                    0\n",
              "Housing Type                                                  0\n",
              "Q1-How many events have you Volunteered in ?                  0\n",
              "Q2-How many events have you Participated in ?                 0\n",
              "Q3-How many activities are you Interested in ?                0\n",
              "Q4-How many activities are you Passionate about ?             0\n",
              "Q5-What are your levels of stress ?                           0\n",
              "Q6-How Satisfied You are with your Student Life ?             0\n",
              "Q7-How much effort do you make to interact with others ?     18\n",
              "Q8-About How events are you aware about ?                    18\n",
              "response_id                                                   0\n",
              "Q9-What is an ideal student life ?                          587\n",
              "dtype: int64"
            ]
          },
          "metadata": {},
          "execution_count": 46
        }
      ]
    },
    {
      "cell_type": "markdown",
      "source": [
        "**DATA CLEANING**"
      ],
      "metadata": {
        "id": "b5AHPFMvXQa_"
      }
    },
    {
      "cell_type": "code",
      "source": [
        "data['Q7-How much effort do you make to interact with others ?'].isnull().sum()"
      ],
      "metadata": {
        "colab": {
          "base_uri": "https://localhost:8080/"
        },
        "id": "s2-YbH9zXWdo",
        "outputId": "2f8340d0-7491-4cb9-e3d5-dc5b737c115f"
      },
      "execution_count": null,
      "outputs": [
        {
          "output_type": "execute_result",
          "data": {
            "text/plain": [
              "18"
            ]
          },
          "metadata": {},
          "execution_count": 47
        }
      ]
    },
    {
      "cell_type": "code",
      "source": [
        "data['Q7-How much effort do you make to interact with others ?'].mode()"
      ],
      "metadata": {
        "id": "Gc2qTWrHXZqS",
        "colab": {
          "base_uri": "https://localhost:8080/"
        },
        "outputId": "bd16245b-63f4-4685-891a-9198d6dcad46"
      },
      "execution_count": null,
      "outputs": [
        {
          "output_type": "execute_result",
          "data": {
            "text/plain": [
              "0    2.0\n",
              "dtype: float64"
            ]
          },
          "metadata": {},
          "execution_count": 48
        }
      ]
    },
    {
      "cell_type": "code",
      "source": [
        "data['Q7-How much effort do you make to interact with others ?'].fillna('2',inplace=True)\n",
        "data"
      ],
      "metadata": {
        "colab": {
          "base_uri": "https://localhost:8080/",
          "height": 921
        },
        "id": "2rhNabaa7E-x",
        "outputId": "1ec8e46f-8bcf-4ed1-f79c-927ac041fff4"
      },
      "execution_count": null,
      "outputs": [
        {
          "output_type": "execute_result",
          "data": {
            "text/plain": [
              "     Career         Citizenship Nationality  Year since Matriculation  \\\n",
              "0      UGRD           Foreigner   Indonesia                         2   \n",
              "1      UGRD     Country Citizen   Singapore                         1   \n",
              "2      UGRD           Foreigner    Malaysia                         2   \n",
              "3      UGRD           Foreigner    Malaysia                         2   \n",
              "4      UGRD           Foreigner    Viet Nam                         3   \n",
              "...     ...                 ...         ...                       ...   \n",
              "2953   UGRD     Country Citizen   Singapore                         1   \n",
              "2954   UGRD     Country Citizen   Singapore                         2   \n",
              "2955   GRAD           Foreigner       China                         1   \n",
              "2956   GRAD           Foreigner       China                         4   \n",
              "2957   UGRD  Permanent Resident       China                         1   \n",
              "\n",
              "      Year of Study             Primary Programme Gender  \\\n",
              "0                 2           Bachelor of Science      F   \n",
              "1                 1       Bachelor of Engineering      F   \n",
              "2                 2           Bachelor of Science      M   \n",
              "3                 2       Bachelor of Engineering      M   \n",
              "4                 3       Bachelor of Engineering      F   \n",
              "...             ...                           ...    ...   \n",
              "2953              1           Bachelor of Science      F   \n",
              "2954              2  Bach. of Med.,Bach. of Surg.      M   \n",
              "2955              1   Master of Science (Track 1)      F   \n",
              "2956              4    Doctor of Philosophy (FoE)      M   \n",
              "2957              1           Bachelor of Science      F   \n",
              "\n",
              "                 Department   Housing Type  \\\n",
              "0         School of Science     Residences   \n",
              "1     School of Engineering  Out of Campus   \n",
              "2         School of Science          Halls   \n",
              "3     School of Engineering          Halls   \n",
              "4     School of Engineering  Out of Campus   \n",
              "...                     ...            ...   \n",
              "2953      School of Science  Out of Campus   \n",
              "2954    School of Medicine1  Out of Campus   \n",
              "2955      School of Science  Out of Campus   \n",
              "2956  School of Engineering  Out of Campus   \n",
              "2957      School of Science          Halls   \n",
              "\n",
              "      Q1-How many events have you Volunteered in ?  \\\n",
              "0                                                0   \n",
              "1                                                0   \n",
              "2                                                3   \n",
              "3                                                3   \n",
              "4                                                4   \n",
              "...                                            ...   \n",
              "2953                                             0   \n",
              "2954                                             1   \n",
              "2955                                             0   \n",
              "2956                                             3   \n",
              "2957                                             2   \n",
              "\n",
              "      Q2-How many events have you Participated in ?  \\\n",
              "0                                                 1   \n",
              "1                                                 1   \n",
              "2                                                 1   \n",
              "3                                                 4   \n",
              "4                                                 3   \n",
              "...                                             ...   \n",
              "2953                                              1   \n",
              "2954                                              1   \n",
              "2955                                              1   \n",
              "2956                                              2   \n",
              "2957                                              2   \n",
              "\n",
              "      Q3-How many activities are you Interested in ?  \\\n",
              "0                                                  3   \n",
              "1                                                  2   \n",
              "2                                                  1   \n",
              "3                                                  3   \n",
              "4                                                  4   \n",
              "...                                              ...   \n",
              "2953                                               5   \n",
              "2954                                               5   \n",
              "2955                                               1   \n",
              "2956                                               6   \n",
              "2957                                               4   \n",
              "\n",
              "      Q4-How many activities are you Passionate about ?  \\\n",
              "0                                                     1   \n",
              "1                                                     3   \n",
              "2                                                     5   \n",
              "3                                                     3   \n",
              "4                                                     5   \n",
              "...                                                 ...   \n",
              "2953                                                  8   \n",
              "2954                                                  2   \n",
              "2955                                                  2   \n",
              "2956                                                  2   \n",
              "2957                                                  2   \n",
              "\n",
              "      Q5-What are your levels of stress ?  \\\n",
              "0                                       1   \n",
              "1                                       1   \n",
              "2                                       2   \n",
              "3                                       7   \n",
              "4                                       4   \n",
              "...                                   ...   \n",
              "2953                                    3   \n",
              "2954                                    1   \n",
              "2955                                    1   \n",
              "2956                                    3   \n",
              "2957                                    3   \n",
              "\n",
              "      Q6-How Satisfied You are with your Student Life ?  \\\n",
              "0                                                     2   \n",
              "1                                                     2   \n",
              "2                                                     2   \n",
              "3                                                     1   \n",
              "4                                                     2   \n",
              "...                                                 ...   \n",
              "2953                                                  2   \n",
              "2954                                                  2   \n",
              "2955                                                  3   \n",
              "2956                                                  3   \n",
              "2957                                                  2   \n",
              "\n",
              "     Q7-How much effort do you make to interact with others ?  \\\n",
              "0                                                   2.0         \n",
              "1                                                   2.0         \n",
              "2                                                   2.0         \n",
              "3                                                   1.0         \n",
              "4                                                   2.0         \n",
              "...                                                 ...         \n",
              "2953                                                  2         \n",
              "2954                                                  2         \n",
              "2955                                                  2         \n",
              "2956                                                  2         \n",
              "2957                                                  2         \n",
              "\n",
              "      Q8-About How events are you aware about ?  response_id  \\\n",
              "0                                           2.0            1   \n",
              "1                                           3.0            2   \n",
              "2                                           2.0            3   \n",
              "3                                           1.0            4   \n",
              "4                                           2.0            5   \n",
              "...                                         ...          ...   \n",
              "2953                                        NaN         2954   \n",
              "2954                                        NaN         2955   \n",
              "2955                                        NaN         2956   \n",
              "2956                                        NaN         2957   \n",
              "2957                                        NaN         2958   \n",
              "\n",
              "                     Q9-What is an ideal student life ?  \n",
              "0                                                   NaN  \n",
              "1                              Friends+CCas+good result  \n",
              "2            just want everything to go smooth. serious  \n",
              "3                                                   NaN  \n",
              "4           a mixture of both academic and non-academic  \n",
              "...                                                 ...  \n",
              "2953  The ideal student life is about able to balanc...  \n",
              "2954  Work-life balance with time for leisure activi...  \n",
              "2955                                                NaN  \n",
              "2956                                                NaN  \n",
              "2957  My ideal student life is having study-life bal...  \n",
              "\n",
              "[2958 rows x 19 columns]"
            ],
            "text/html": [
              "\n",
              "  <div id=\"df-e3845f44-33ab-4365-9b7e-8804eb03d298\">\n",
              "    <div class=\"colab-df-container\">\n",
              "      <div>\n",
              "<style scoped>\n",
              "    .dataframe tbody tr th:only-of-type {\n",
              "        vertical-align: middle;\n",
              "    }\n",
              "\n",
              "    .dataframe tbody tr th {\n",
              "        vertical-align: top;\n",
              "    }\n",
              "\n",
              "    .dataframe thead th {\n",
              "        text-align: right;\n",
              "    }\n",
              "</style>\n",
              "<table border=\"1\" class=\"dataframe\">\n",
              "  <thead>\n",
              "    <tr style=\"text-align: right;\">\n",
              "      <th></th>\n",
              "      <th>Career</th>\n",
              "      <th>Citizenship</th>\n",
              "      <th>Nationality</th>\n",
              "      <th>Year since Matriculation</th>\n",
              "      <th>Year of Study</th>\n",
              "      <th>Primary Programme</th>\n",
              "      <th>Gender</th>\n",
              "      <th>Department</th>\n",
              "      <th>Housing Type</th>\n",
              "      <th>Q1-How many events have you Volunteered in ?</th>\n",
              "      <th>Q2-How many events have you Participated in ?</th>\n",
              "      <th>Q3-How many activities are you Interested in ?</th>\n",
              "      <th>Q4-How many activities are you Passionate about ?</th>\n",
              "      <th>Q5-What are your levels of stress ?</th>\n",
              "      <th>Q6-How Satisfied You are with your Student Life ?</th>\n",
              "      <th>Q7-How much effort do you make to interact with others ?</th>\n",
              "      <th>Q8-About How events are you aware about ?</th>\n",
              "      <th>response_id</th>\n",
              "      <th>Q9-What is an ideal student life ?</th>\n",
              "    </tr>\n",
              "  </thead>\n",
              "  <tbody>\n",
              "    <tr>\n",
              "      <th>0</th>\n",
              "      <td>UGRD</td>\n",
              "      <td>Foreigner</td>\n",
              "      <td>Indonesia</td>\n",
              "      <td>2</td>\n",
              "      <td>2</td>\n",
              "      <td>Bachelor of Science</td>\n",
              "      <td>F</td>\n",
              "      <td>School of Science</td>\n",
              "      <td>Residences</td>\n",
              "      <td>0</td>\n",
              "      <td>1</td>\n",
              "      <td>3</td>\n",
              "      <td>1</td>\n",
              "      <td>1</td>\n",
              "      <td>2</td>\n",
              "      <td>2.0</td>\n",
              "      <td>2.0</td>\n",
              "      <td>1</td>\n",
              "      <td>NaN</td>\n",
              "    </tr>\n",
              "    <tr>\n",
              "      <th>1</th>\n",
              "      <td>UGRD</td>\n",
              "      <td>Country Citizen</td>\n",
              "      <td>Singapore</td>\n",
              "      <td>1</td>\n",
              "      <td>1</td>\n",
              "      <td>Bachelor of Engineering</td>\n",
              "      <td>F</td>\n",
              "      <td>School of Engineering</td>\n",
              "      <td>Out of Campus</td>\n",
              "      <td>0</td>\n",
              "      <td>1</td>\n",
              "      <td>2</td>\n",
              "      <td>3</td>\n",
              "      <td>1</td>\n",
              "      <td>2</td>\n",
              "      <td>2.0</td>\n",
              "      <td>3.0</td>\n",
              "      <td>2</td>\n",
              "      <td>Friends+CCas+good result</td>\n",
              "    </tr>\n",
              "    <tr>\n",
              "      <th>2</th>\n",
              "      <td>UGRD</td>\n",
              "      <td>Foreigner</td>\n",
              "      <td>Malaysia</td>\n",
              "      <td>2</td>\n",
              "      <td>2</td>\n",
              "      <td>Bachelor of Science</td>\n",
              "      <td>M</td>\n",
              "      <td>School of Science</td>\n",
              "      <td>Halls</td>\n",
              "      <td>3</td>\n",
              "      <td>1</td>\n",
              "      <td>1</td>\n",
              "      <td>5</td>\n",
              "      <td>2</td>\n",
              "      <td>2</td>\n",
              "      <td>2.0</td>\n",
              "      <td>2.0</td>\n",
              "      <td>3</td>\n",
              "      <td>just want everything to go smooth. serious</td>\n",
              "    </tr>\n",
              "    <tr>\n",
              "      <th>3</th>\n",
              "      <td>UGRD</td>\n",
              "      <td>Foreigner</td>\n",
              "      <td>Malaysia</td>\n",
              "      <td>2</td>\n",
              "      <td>2</td>\n",
              "      <td>Bachelor of Engineering</td>\n",
              "      <td>M</td>\n",
              "      <td>School of Engineering</td>\n",
              "      <td>Halls</td>\n",
              "      <td>3</td>\n",
              "      <td>4</td>\n",
              "      <td>3</td>\n",
              "      <td>3</td>\n",
              "      <td>7</td>\n",
              "      <td>1</td>\n",
              "      <td>1.0</td>\n",
              "      <td>1.0</td>\n",
              "      <td>4</td>\n",
              "      <td>NaN</td>\n",
              "    </tr>\n",
              "    <tr>\n",
              "      <th>4</th>\n",
              "      <td>UGRD</td>\n",
              "      <td>Foreigner</td>\n",
              "      <td>Viet Nam</td>\n",
              "      <td>3</td>\n",
              "      <td>3</td>\n",
              "      <td>Bachelor of Engineering</td>\n",
              "      <td>F</td>\n",
              "      <td>School of Engineering</td>\n",
              "      <td>Out of Campus</td>\n",
              "      <td>4</td>\n",
              "      <td>3</td>\n",
              "      <td>4</td>\n",
              "      <td>5</td>\n",
              "      <td>4</td>\n",
              "      <td>2</td>\n",
              "      <td>2.0</td>\n",
              "      <td>2.0</td>\n",
              "      <td>5</td>\n",
              "      <td>a mixture of both academic and non-academic</td>\n",
              "    </tr>\n",
              "    <tr>\n",
              "      <th>...</th>\n",
              "      <td>...</td>\n",
              "      <td>...</td>\n",
              "      <td>...</td>\n",
              "      <td>...</td>\n",
              "      <td>...</td>\n",
              "      <td>...</td>\n",
              "      <td>...</td>\n",
              "      <td>...</td>\n",
              "      <td>...</td>\n",
              "      <td>...</td>\n",
              "      <td>...</td>\n",
              "      <td>...</td>\n",
              "      <td>...</td>\n",
              "      <td>...</td>\n",
              "      <td>...</td>\n",
              "      <td>...</td>\n",
              "      <td>...</td>\n",
              "      <td>...</td>\n",
              "      <td>...</td>\n",
              "    </tr>\n",
              "    <tr>\n",
              "      <th>2953</th>\n",
              "      <td>UGRD</td>\n",
              "      <td>Country Citizen</td>\n",
              "      <td>Singapore</td>\n",
              "      <td>1</td>\n",
              "      <td>1</td>\n",
              "      <td>Bachelor of Science</td>\n",
              "      <td>F</td>\n",
              "      <td>School of Science</td>\n",
              "      <td>Out of Campus</td>\n",
              "      <td>0</td>\n",
              "      <td>1</td>\n",
              "      <td>5</td>\n",
              "      <td>8</td>\n",
              "      <td>3</td>\n",
              "      <td>2</td>\n",
              "      <td>2</td>\n",
              "      <td>NaN</td>\n",
              "      <td>2954</td>\n",
              "      <td>The ideal student life is about able to balanc...</td>\n",
              "    </tr>\n",
              "    <tr>\n",
              "      <th>2954</th>\n",
              "      <td>UGRD</td>\n",
              "      <td>Country Citizen</td>\n",
              "      <td>Singapore</td>\n",
              "      <td>2</td>\n",
              "      <td>2</td>\n",
              "      <td>Bach. of Med.,Bach. of Surg.</td>\n",
              "      <td>M</td>\n",
              "      <td>School of Medicine1</td>\n",
              "      <td>Out of Campus</td>\n",
              "      <td>1</td>\n",
              "      <td>1</td>\n",
              "      <td>5</td>\n",
              "      <td>2</td>\n",
              "      <td>1</td>\n",
              "      <td>2</td>\n",
              "      <td>2</td>\n",
              "      <td>NaN</td>\n",
              "      <td>2955</td>\n",
              "      <td>Work-life balance with time for leisure activi...</td>\n",
              "    </tr>\n",
              "    <tr>\n",
              "      <th>2955</th>\n",
              "      <td>GRAD</td>\n",
              "      <td>Foreigner</td>\n",
              "      <td>China</td>\n",
              "      <td>1</td>\n",
              "      <td>1</td>\n",
              "      <td>Master of Science (Track 1)</td>\n",
              "      <td>F</td>\n",
              "      <td>School of Science</td>\n",
              "      <td>Out of Campus</td>\n",
              "      <td>0</td>\n",
              "      <td>1</td>\n",
              "      <td>1</td>\n",
              "      <td>2</td>\n",
              "      <td>1</td>\n",
              "      <td>3</td>\n",
              "      <td>2</td>\n",
              "      <td>NaN</td>\n",
              "      <td>2956</td>\n",
              "      <td>NaN</td>\n",
              "    </tr>\n",
              "    <tr>\n",
              "      <th>2956</th>\n",
              "      <td>GRAD</td>\n",
              "      <td>Foreigner</td>\n",
              "      <td>China</td>\n",
              "      <td>4</td>\n",
              "      <td>4</td>\n",
              "      <td>Doctor of Philosophy (FoE)</td>\n",
              "      <td>M</td>\n",
              "      <td>School of Engineering</td>\n",
              "      <td>Out of Campus</td>\n",
              "      <td>3</td>\n",
              "      <td>2</td>\n",
              "      <td>6</td>\n",
              "      <td>2</td>\n",
              "      <td>3</td>\n",
              "      <td>3</td>\n",
              "      <td>2</td>\n",
              "      <td>NaN</td>\n",
              "      <td>2957</td>\n",
              "      <td>NaN</td>\n",
              "    </tr>\n",
              "    <tr>\n",
              "      <th>2957</th>\n",
              "      <td>UGRD</td>\n",
              "      <td>Permanent Resident</td>\n",
              "      <td>China</td>\n",
              "      <td>1</td>\n",
              "      <td>1</td>\n",
              "      <td>Bachelor of Science</td>\n",
              "      <td>F</td>\n",
              "      <td>School of Science</td>\n",
              "      <td>Halls</td>\n",
              "      <td>2</td>\n",
              "      <td>2</td>\n",
              "      <td>4</td>\n",
              "      <td>2</td>\n",
              "      <td>3</td>\n",
              "      <td>2</td>\n",
              "      <td>2</td>\n",
              "      <td>NaN</td>\n",
              "      <td>2958</td>\n",
              "      <td>My ideal student life is having study-life bal...</td>\n",
              "    </tr>\n",
              "  </tbody>\n",
              "</table>\n",
              "<p>2958 rows × 19 columns</p>\n",
              "</div>\n",
              "      <button class=\"colab-df-convert\" onclick=\"convertToInteractive('df-e3845f44-33ab-4365-9b7e-8804eb03d298')\"\n",
              "              title=\"Convert this dataframe to an interactive table.\"\n",
              "              style=\"display:none;\">\n",
              "        \n",
              "  <svg xmlns=\"http://www.w3.org/2000/svg\" height=\"24px\"viewBox=\"0 0 24 24\"\n",
              "       width=\"24px\">\n",
              "    <path d=\"M0 0h24v24H0V0z\" fill=\"none\"/>\n",
              "    <path d=\"M18.56 5.44l.94 2.06.94-2.06 2.06-.94-2.06-.94-.94-2.06-.94 2.06-2.06.94zm-11 1L8.5 8.5l.94-2.06 2.06-.94-2.06-.94L8.5 2.5l-.94 2.06-2.06.94zm10 10l.94 2.06.94-2.06 2.06-.94-2.06-.94-.94-2.06-.94 2.06-2.06.94z\"/><path d=\"M17.41 7.96l-1.37-1.37c-.4-.4-.92-.59-1.43-.59-.52 0-1.04.2-1.43.59L10.3 9.45l-7.72 7.72c-.78.78-.78 2.05 0 2.83L4 21.41c.39.39.9.59 1.41.59.51 0 1.02-.2 1.41-.59l7.78-7.78 2.81-2.81c.8-.78.8-2.07 0-2.86zM5.41 20L4 18.59l7.72-7.72 1.47 1.35L5.41 20z\"/>\n",
              "  </svg>\n",
              "      </button>\n",
              "      \n",
              "  <style>\n",
              "    .colab-df-container {\n",
              "      display:flex;\n",
              "      flex-wrap:wrap;\n",
              "      gap: 12px;\n",
              "    }\n",
              "\n",
              "    .colab-df-convert {\n",
              "      background-color: #E8F0FE;\n",
              "      border: none;\n",
              "      border-radius: 50%;\n",
              "      cursor: pointer;\n",
              "      display: none;\n",
              "      fill: #1967D2;\n",
              "      height: 32px;\n",
              "      padding: 0 0 0 0;\n",
              "      width: 32px;\n",
              "    }\n",
              "\n",
              "    .colab-df-convert:hover {\n",
              "      background-color: #E2EBFA;\n",
              "      box-shadow: 0px 1px 2px rgba(60, 64, 67, 0.3), 0px 1px 3px 1px rgba(60, 64, 67, 0.15);\n",
              "      fill: #174EA6;\n",
              "    }\n",
              "\n",
              "    [theme=dark] .colab-df-convert {\n",
              "      background-color: #3B4455;\n",
              "      fill: #D2E3FC;\n",
              "    }\n",
              "\n",
              "    [theme=dark] .colab-df-convert:hover {\n",
              "      background-color: #434B5C;\n",
              "      box-shadow: 0px 1px 3px 1px rgba(0, 0, 0, 0.15);\n",
              "      filter: drop-shadow(0px 1px 2px rgba(0, 0, 0, 0.3));\n",
              "      fill: #FFFFFF;\n",
              "    }\n",
              "  </style>\n",
              "\n",
              "      <script>\n",
              "        const buttonEl =\n",
              "          document.querySelector('#df-e3845f44-33ab-4365-9b7e-8804eb03d298 button.colab-df-convert');\n",
              "        buttonEl.style.display =\n",
              "          google.colab.kernel.accessAllowed ? 'block' : 'none';\n",
              "\n",
              "        async function convertToInteractive(key) {\n",
              "          const element = document.querySelector('#df-e3845f44-33ab-4365-9b7e-8804eb03d298');\n",
              "          const dataTable =\n",
              "            await google.colab.kernel.invokeFunction('convertToInteractive',\n",
              "                                                     [key], {});\n",
              "          if (!dataTable) return;\n",
              "\n",
              "          const docLinkHtml = 'Like what you see? Visit the ' +\n",
              "            '<a target=\"_blank\" href=https://colab.research.google.com/notebooks/data_table.ipynb>data table notebook</a>'\n",
              "            + ' to learn more about interactive tables.';\n",
              "          element.innerHTML = '';\n",
              "          dataTable['output_type'] = 'display_data';\n",
              "          await google.colab.output.renderOutput(dataTable, element);\n",
              "          const docLink = document.createElement('div');\n",
              "          docLink.innerHTML = docLinkHtml;\n",
              "          element.appendChild(docLink);\n",
              "        }\n",
              "      </script>\n",
              "    </div>\n",
              "  </div>\n",
              "  "
            ]
          },
          "metadata": {},
          "execution_count": 49
        }
      ]
    },
    {
      "cell_type": "code",
      "source": [
        "data['Q7-How much effort do you make to interact with others ?'].isnull().sum()"
      ],
      "metadata": {
        "colab": {
          "base_uri": "https://localhost:8080/"
        },
        "id": "uRJfaNns7K4Q",
        "outputId": "f2d22fb2-65c8-4e91-8b83-da9512faa281"
      },
      "execution_count": null,
      "outputs": [
        {
          "output_type": "execute_result",
          "data": {
            "text/plain": [
              "0"
            ]
          },
          "metadata": {},
          "execution_count": 50
        }
      ]
    },
    {
      "cell_type": "code",
      "source": [
        "data['Q8-About How events are you aware about ?'].isnull().sum()"
      ],
      "metadata": {
        "colab": {
          "base_uri": "https://localhost:8080/"
        },
        "id": "84NFEZ3u7Qo4",
        "outputId": "8e497fee-9aa9-4748-bb1a-b6160f711455"
      },
      "execution_count": null,
      "outputs": [
        {
          "output_type": "execute_result",
          "data": {
            "text/plain": [
              "18"
            ]
          },
          "metadata": {},
          "execution_count": 51
        }
      ]
    },
    {
      "cell_type": "code",
      "source": [
        "data['Q8-About How events are you aware about ?'].mode()"
      ],
      "metadata": {
        "colab": {
          "base_uri": "https://localhost:8080/"
        },
        "id": "YNawY3gu7S_I",
        "outputId": "61ee6262-bfdb-44d4-954c-e46cc78c5984"
      },
      "execution_count": null,
      "outputs": [
        {
          "output_type": "execute_result",
          "data": {
            "text/plain": [
              "0    2.0\n",
              "dtype: float64"
            ]
          },
          "metadata": {},
          "execution_count": 52
        }
      ]
    },
    {
      "cell_type": "code",
      "source": [
        "data.isnull().sum()"
      ],
      "metadata": {
        "colab": {
          "base_uri": "https://localhost:8080/"
        },
        "id": "upVoR6Rzy30Y",
        "outputId": "29a504f2-6045-458c-f2b2-1af48080117f"
      },
      "execution_count": null,
      "outputs": [
        {
          "output_type": "execute_result",
          "data": {
            "text/plain": [
              "Career                                                        0\n",
              "Citizenship                                                   0\n",
              "Nationality                                                   0\n",
              "Year since Matriculation                                      0\n",
              "Year of Study                                                 0\n",
              "Primary Programme                                             0\n",
              "Gender                                                        0\n",
              "Department                                                    0\n",
              "Housing Type                                                  0\n",
              "Q1-How many events have you Volunteered in ?                  0\n",
              "Q2-How many events have you Participated in ?                 0\n",
              "Q3-How many activities are you Interested in ?                0\n",
              "Q4-How many activities are you Passionate about ?             0\n",
              "Q5-What are your levels of stress ?                           0\n",
              "Q6-How Satisfied You are with your Student Life ?             0\n",
              "Q7-How much effort do you make to interact with others ?      0\n",
              "Q8-About How events are you aware about ?                    18\n",
              "response_id                                                   0\n",
              "Q9-What is an ideal student life ?                          587\n",
              "dtype: int64"
            ]
          },
          "metadata": {},
          "execution_count": 53
        }
      ]
    },
    {
      "cell_type": "markdown",
      "source": [
        "**New Data .** "
      ],
      "metadata": {
        "id": "f2gvECrmKOiP"
      }
    },
    {
      "cell_type": "code",
      "source": [
        "\n",
        "newdata=data.drop(['Year since Matriculation','response_id','Q9-What is an ideal student life ?'],axis=1)\n",
        "newdata"
      ],
      "metadata": {
        "colab": {
          "base_uri": "https://localhost:8080/",
          "height": 852
        },
        "id": "cCQHAYYoDmPO",
        "outputId": "c5c5f783-11da-4684-d542-c0bafc5abab6"
      },
      "execution_count": null,
      "outputs": [
        {
          "output_type": "execute_result",
          "data": {
            "text/plain": [
              "     Career         Citizenship Nationality  Year of Study  \\\n",
              "0      UGRD           Foreigner   Indonesia              2   \n",
              "1      UGRD     Country Citizen   Singapore              1   \n",
              "2      UGRD           Foreigner    Malaysia              2   \n",
              "3      UGRD           Foreigner    Malaysia              2   \n",
              "4      UGRD           Foreigner    Viet Nam              3   \n",
              "...     ...                 ...         ...            ...   \n",
              "2953   UGRD     Country Citizen   Singapore              1   \n",
              "2954   UGRD     Country Citizen   Singapore              2   \n",
              "2955   GRAD           Foreigner       China              1   \n",
              "2956   GRAD           Foreigner       China              4   \n",
              "2957   UGRD  Permanent Resident       China              1   \n",
              "\n",
              "                 Primary Programme Gender             Department  \\\n",
              "0              Bachelor of Science      F      School of Science   \n",
              "1          Bachelor of Engineering      F  School of Engineering   \n",
              "2              Bachelor of Science      M      School of Science   \n",
              "3          Bachelor of Engineering      M  School of Engineering   \n",
              "4          Bachelor of Engineering      F  School of Engineering   \n",
              "...                            ...    ...                    ...   \n",
              "2953           Bachelor of Science      F      School of Science   \n",
              "2954  Bach. of Med.,Bach. of Surg.      M    School of Medicine1   \n",
              "2955   Master of Science (Track 1)      F      School of Science   \n",
              "2956    Doctor of Philosophy (FoE)      M  School of Engineering   \n",
              "2957           Bachelor of Science      F      School of Science   \n",
              "\n",
              "       Housing Type  Q1-How many events have you Volunteered in ?  \\\n",
              "0        Residences                                             0   \n",
              "1     Out of Campus                                             0   \n",
              "2             Halls                                             3   \n",
              "3             Halls                                             3   \n",
              "4     Out of Campus                                             4   \n",
              "...             ...                                           ...   \n",
              "2953  Out of Campus                                             0   \n",
              "2954  Out of Campus                                             1   \n",
              "2955  Out of Campus                                             0   \n",
              "2956  Out of Campus                                             3   \n",
              "2957          Halls                                             2   \n",
              "\n",
              "      Q2-How many events have you Participated in ?  \\\n",
              "0                                                 1   \n",
              "1                                                 1   \n",
              "2                                                 1   \n",
              "3                                                 4   \n",
              "4                                                 3   \n",
              "...                                             ...   \n",
              "2953                                              1   \n",
              "2954                                              1   \n",
              "2955                                              1   \n",
              "2956                                              2   \n",
              "2957                                              2   \n",
              "\n",
              "      Q3-How many activities are you Interested in ?  \\\n",
              "0                                                  3   \n",
              "1                                                  2   \n",
              "2                                                  1   \n",
              "3                                                  3   \n",
              "4                                                  4   \n",
              "...                                              ...   \n",
              "2953                                               5   \n",
              "2954                                               5   \n",
              "2955                                               1   \n",
              "2956                                               6   \n",
              "2957                                               4   \n",
              "\n",
              "      Q4-How many activities are you Passionate about ?  \\\n",
              "0                                                     1   \n",
              "1                                                     3   \n",
              "2                                                     5   \n",
              "3                                                     3   \n",
              "4                                                     5   \n",
              "...                                                 ...   \n",
              "2953                                                  8   \n",
              "2954                                                  2   \n",
              "2955                                                  2   \n",
              "2956                                                  2   \n",
              "2957                                                  2   \n",
              "\n",
              "      Q5-What are your levels of stress ?  \\\n",
              "0                                       1   \n",
              "1                                       1   \n",
              "2                                       2   \n",
              "3                                       7   \n",
              "4                                       4   \n",
              "...                                   ...   \n",
              "2953                                    3   \n",
              "2954                                    1   \n",
              "2955                                    1   \n",
              "2956                                    3   \n",
              "2957                                    3   \n",
              "\n",
              "      Q6-How Satisfied You are with your Student Life ?  \\\n",
              "0                                                     2   \n",
              "1                                                     2   \n",
              "2                                                     2   \n",
              "3                                                     1   \n",
              "4                                                     2   \n",
              "...                                                 ...   \n",
              "2953                                                  2   \n",
              "2954                                                  2   \n",
              "2955                                                  3   \n",
              "2956                                                  3   \n",
              "2957                                                  2   \n",
              "\n",
              "     Q7-How much effort do you make to interact with others ?  \\\n",
              "0                                                   2.0         \n",
              "1                                                   2.0         \n",
              "2                                                   2.0         \n",
              "3                                                   1.0         \n",
              "4                                                   2.0         \n",
              "...                                                 ...         \n",
              "2953                                                  2         \n",
              "2954                                                  2         \n",
              "2955                                                  2         \n",
              "2956                                                  2         \n",
              "2957                                                  2         \n",
              "\n",
              "      Q8-About How events are you aware about ?  \n",
              "0                                           2.0  \n",
              "1                                           3.0  \n",
              "2                                           2.0  \n",
              "3                                           1.0  \n",
              "4                                           2.0  \n",
              "...                                         ...  \n",
              "2953                                        NaN  \n",
              "2954                                        NaN  \n",
              "2955                                        NaN  \n",
              "2956                                        NaN  \n",
              "2957                                        NaN  \n",
              "\n",
              "[2958 rows x 16 columns]"
            ],
            "text/html": [
              "\n",
              "  <div id=\"df-67fe666b-f5b3-4ae2-8508-57a48c1c5d8b\">\n",
              "    <div class=\"colab-df-container\">\n",
              "      <div>\n",
              "<style scoped>\n",
              "    .dataframe tbody tr th:only-of-type {\n",
              "        vertical-align: middle;\n",
              "    }\n",
              "\n",
              "    .dataframe tbody tr th {\n",
              "        vertical-align: top;\n",
              "    }\n",
              "\n",
              "    .dataframe thead th {\n",
              "        text-align: right;\n",
              "    }\n",
              "</style>\n",
              "<table border=\"1\" class=\"dataframe\">\n",
              "  <thead>\n",
              "    <tr style=\"text-align: right;\">\n",
              "      <th></th>\n",
              "      <th>Career</th>\n",
              "      <th>Citizenship</th>\n",
              "      <th>Nationality</th>\n",
              "      <th>Year of Study</th>\n",
              "      <th>Primary Programme</th>\n",
              "      <th>Gender</th>\n",
              "      <th>Department</th>\n",
              "      <th>Housing Type</th>\n",
              "      <th>Q1-How many events have you Volunteered in ?</th>\n",
              "      <th>Q2-How many events have you Participated in ?</th>\n",
              "      <th>Q3-How many activities are you Interested in ?</th>\n",
              "      <th>Q4-How many activities are you Passionate about ?</th>\n",
              "      <th>Q5-What are your levels of stress ?</th>\n",
              "      <th>Q6-How Satisfied You are with your Student Life ?</th>\n",
              "      <th>Q7-How much effort do you make to interact with others ?</th>\n",
              "      <th>Q8-About How events are you aware about ?</th>\n",
              "    </tr>\n",
              "  </thead>\n",
              "  <tbody>\n",
              "    <tr>\n",
              "      <th>0</th>\n",
              "      <td>UGRD</td>\n",
              "      <td>Foreigner</td>\n",
              "      <td>Indonesia</td>\n",
              "      <td>2</td>\n",
              "      <td>Bachelor of Science</td>\n",
              "      <td>F</td>\n",
              "      <td>School of Science</td>\n",
              "      <td>Residences</td>\n",
              "      <td>0</td>\n",
              "      <td>1</td>\n",
              "      <td>3</td>\n",
              "      <td>1</td>\n",
              "      <td>1</td>\n",
              "      <td>2</td>\n",
              "      <td>2.0</td>\n",
              "      <td>2.0</td>\n",
              "    </tr>\n",
              "    <tr>\n",
              "      <th>1</th>\n",
              "      <td>UGRD</td>\n",
              "      <td>Country Citizen</td>\n",
              "      <td>Singapore</td>\n",
              "      <td>1</td>\n",
              "      <td>Bachelor of Engineering</td>\n",
              "      <td>F</td>\n",
              "      <td>School of Engineering</td>\n",
              "      <td>Out of Campus</td>\n",
              "      <td>0</td>\n",
              "      <td>1</td>\n",
              "      <td>2</td>\n",
              "      <td>3</td>\n",
              "      <td>1</td>\n",
              "      <td>2</td>\n",
              "      <td>2.0</td>\n",
              "      <td>3.0</td>\n",
              "    </tr>\n",
              "    <tr>\n",
              "      <th>2</th>\n",
              "      <td>UGRD</td>\n",
              "      <td>Foreigner</td>\n",
              "      <td>Malaysia</td>\n",
              "      <td>2</td>\n",
              "      <td>Bachelor of Science</td>\n",
              "      <td>M</td>\n",
              "      <td>School of Science</td>\n",
              "      <td>Halls</td>\n",
              "      <td>3</td>\n",
              "      <td>1</td>\n",
              "      <td>1</td>\n",
              "      <td>5</td>\n",
              "      <td>2</td>\n",
              "      <td>2</td>\n",
              "      <td>2.0</td>\n",
              "      <td>2.0</td>\n",
              "    </tr>\n",
              "    <tr>\n",
              "      <th>3</th>\n",
              "      <td>UGRD</td>\n",
              "      <td>Foreigner</td>\n",
              "      <td>Malaysia</td>\n",
              "      <td>2</td>\n",
              "      <td>Bachelor of Engineering</td>\n",
              "      <td>M</td>\n",
              "      <td>School of Engineering</td>\n",
              "      <td>Halls</td>\n",
              "      <td>3</td>\n",
              "      <td>4</td>\n",
              "      <td>3</td>\n",
              "      <td>3</td>\n",
              "      <td>7</td>\n",
              "      <td>1</td>\n",
              "      <td>1.0</td>\n",
              "      <td>1.0</td>\n",
              "    </tr>\n",
              "    <tr>\n",
              "      <th>4</th>\n",
              "      <td>UGRD</td>\n",
              "      <td>Foreigner</td>\n",
              "      <td>Viet Nam</td>\n",
              "      <td>3</td>\n",
              "      <td>Bachelor of Engineering</td>\n",
              "      <td>F</td>\n",
              "      <td>School of Engineering</td>\n",
              "      <td>Out of Campus</td>\n",
              "      <td>4</td>\n",
              "      <td>3</td>\n",
              "      <td>4</td>\n",
              "      <td>5</td>\n",
              "      <td>4</td>\n",
              "      <td>2</td>\n",
              "      <td>2.0</td>\n",
              "      <td>2.0</td>\n",
              "    </tr>\n",
              "    <tr>\n",
              "      <th>...</th>\n",
              "      <td>...</td>\n",
              "      <td>...</td>\n",
              "      <td>...</td>\n",
              "      <td>...</td>\n",
              "      <td>...</td>\n",
              "      <td>...</td>\n",
              "      <td>...</td>\n",
              "      <td>...</td>\n",
              "      <td>...</td>\n",
              "      <td>...</td>\n",
              "      <td>...</td>\n",
              "      <td>...</td>\n",
              "      <td>...</td>\n",
              "      <td>...</td>\n",
              "      <td>...</td>\n",
              "      <td>...</td>\n",
              "    </tr>\n",
              "    <tr>\n",
              "      <th>2953</th>\n",
              "      <td>UGRD</td>\n",
              "      <td>Country Citizen</td>\n",
              "      <td>Singapore</td>\n",
              "      <td>1</td>\n",
              "      <td>Bachelor of Science</td>\n",
              "      <td>F</td>\n",
              "      <td>School of Science</td>\n",
              "      <td>Out of Campus</td>\n",
              "      <td>0</td>\n",
              "      <td>1</td>\n",
              "      <td>5</td>\n",
              "      <td>8</td>\n",
              "      <td>3</td>\n",
              "      <td>2</td>\n",
              "      <td>2</td>\n",
              "      <td>NaN</td>\n",
              "    </tr>\n",
              "    <tr>\n",
              "      <th>2954</th>\n",
              "      <td>UGRD</td>\n",
              "      <td>Country Citizen</td>\n",
              "      <td>Singapore</td>\n",
              "      <td>2</td>\n",
              "      <td>Bach. of Med.,Bach. of Surg.</td>\n",
              "      <td>M</td>\n",
              "      <td>School of Medicine1</td>\n",
              "      <td>Out of Campus</td>\n",
              "      <td>1</td>\n",
              "      <td>1</td>\n",
              "      <td>5</td>\n",
              "      <td>2</td>\n",
              "      <td>1</td>\n",
              "      <td>2</td>\n",
              "      <td>2</td>\n",
              "      <td>NaN</td>\n",
              "    </tr>\n",
              "    <tr>\n",
              "      <th>2955</th>\n",
              "      <td>GRAD</td>\n",
              "      <td>Foreigner</td>\n",
              "      <td>China</td>\n",
              "      <td>1</td>\n",
              "      <td>Master of Science (Track 1)</td>\n",
              "      <td>F</td>\n",
              "      <td>School of Science</td>\n",
              "      <td>Out of Campus</td>\n",
              "      <td>0</td>\n",
              "      <td>1</td>\n",
              "      <td>1</td>\n",
              "      <td>2</td>\n",
              "      <td>1</td>\n",
              "      <td>3</td>\n",
              "      <td>2</td>\n",
              "      <td>NaN</td>\n",
              "    </tr>\n",
              "    <tr>\n",
              "      <th>2956</th>\n",
              "      <td>GRAD</td>\n",
              "      <td>Foreigner</td>\n",
              "      <td>China</td>\n",
              "      <td>4</td>\n",
              "      <td>Doctor of Philosophy (FoE)</td>\n",
              "      <td>M</td>\n",
              "      <td>School of Engineering</td>\n",
              "      <td>Out of Campus</td>\n",
              "      <td>3</td>\n",
              "      <td>2</td>\n",
              "      <td>6</td>\n",
              "      <td>2</td>\n",
              "      <td>3</td>\n",
              "      <td>3</td>\n",
              "      <td>2</td>\n",
              "      <td>NaN</td>\n",
              "    </tr>\n",
              "    <tr>\n",
              "      <th>2957</th>\n",
              "      <td>UGRD</td>\n",
              "      <td>Permanent Resident</td>\n",
              "      <td>China</td>\n",
              "      <td>1</td>\n",
              "      <td>Bachelor of Science</td>\n",
              "      <td>F</td>\n",
              "      <td>School of Science</td>\n",
              "      <td>Halls</td>\n",
              "      <td>2</td>\n",
              "      <td>2</td>\n",
              "      <td>4</td>\n",
              "      <td>2</td>\n",
              "      <td>3</td>\n",
              "      <td>2</td>\n",
              "      <td>2</td>\n",
              "      <td>NaN</td>\n",
              "    </tr>\n",
              "  </tbody>\n",
              "</table>\n",
              "<p>2958 rows × 16 columns</p>\n",
              "</div>\n",
              "      <button class=\"colab-df-convert\" onclick=\"convertToInteractive('df-67fe666b-f5b3-4ae2-8508-57a48c1c5d8b')\"\n",
              "              title=\"Convert this dataframe to an interactive table.\"\n",
              "              style=\"display:none;\">\n",
              "        \n",
              "  <svg xmlns=\"http://www.w3.org/2000/svg\" height=\"24px\"viewBox=\"0 0 24 24\"\n",
              "       width=\"24px\">\n",
              "    <path d=\"M0 0h24v24H0V0z\" fill=\"none\"/>\n",
              "    <path d=\"M18.56 5.44l.94 2.06.94-2.06 2.06-.94-2.06-.94-.94-2.06-.94 2.06-2.06.94zm-11 1L8.5 8.5l.94-2.06 2.06-.94-2.06-.94L8.5 2.5l-.94 2.06-2.06.94zm10 10l.94 2.06.94-2.06 2.06-.94-2.06-.94-.94-2.06-.94 2.06-2.06.94z\"/><path d=\"M17.41 7.96l-1.37-1.37c-.4-.4-.92-.59-1.43-.59-.52 0-1.04.2-1.43.59L10.3 9.45l-7.72 7.72c-.78.78-.78 2.05 0 2.83L4 21.41c.39.39.9.59 1.41.59.51 0 1.02-.2 1.41-.59l7.78-7.78 2.81-2.81c.8-.78.8-2.07 0-2.86zM5.41 20L4 18.59l7.72-7.72 1.47 1.35L5.41 20z\"/>\n",
              "  </svg>\n",
              "      </button>\n",
              "      \n",
              "  <style>\n",
              "    .colab-df-container {\n",
              "      display:flex;\n",
              "      flex-wrap:wrap;\n",
              "      gap: 12px;\n",
              "    }\n",
              "\n",
              "    .colab-df-convert {\n",
              "      background-color: #E8F0FE;\n",
              "      border: none;\n",
              "      border-radius: 50%;\n",
              "      cursor: pointer;\n",
              "      display: none;\n",
              "      fill: #1967D2;\n",
              "      height: 32px;\n",
              "      padding: 0 0 0 0;\n",
              "      width: 32px;\n",
              "    }\n",
              "\n",
              "    .colab-df-convert:hover {\n",
              "      background-color: #E2EBFA;\n",
              "      box-shadow: 0px 1px 2px rgba(60, 64, 67, 0.3), 0px 1px 3px 1px rgba(60, 64, 67, 0.15);\n",
              "      fill: #174EA6;\n",
              "    }\n",
              "\n",
              "    [theme=dark] .colab-df-convert {\n",
              "      background-color: #3B4455;\n",
              "      fill: #D2E3FC;\n",
              "    }\n",
              "\n",
              "    [theme=dark] .colab-df-convert:hover {\n",
              "      background-color: #434B5C;\n",
              "      box-shadow: 0px 1px 3px 1px rgba(0, 0, 0, 0.15);\n",
              "      filter: drop-shadow(0px 1px 2px rgba(0, 0, 0, 0.3));\n",
              "      fill: #FFFFFF;\n",
              "    }\n",
              "  </style>\n",
              "\n",
              "      <script>\n",
              "        const buttonEl =\n",
              "          document.querySelector('#df-67fe666b-f5b3-4ae2-8508-57a48c1c5d8b button.colab-df-convert');\n",
              "        buttonEl.style.display =\n",
              "          google.colab.kernel.accessAllowed ? 'block' : 'none';\n",
              "\n",
              "        async function convertToInteractive(key) {\n",
              "          const element = document.querySelector('#df-67fe666b-f5b3-4ae2-8508-57a48c1c5d8b');\n",
              "          const dataTable =\n",
              "            await google.colab.kernel.invokeFunction('convertToInteractive',\n",
              "                                                     [key], {});\n",
              "          if (!dataTable) return;\n",
              "\n",
              "          const docLinkHtml = 'Like what you see? Visit the ' +\n",
              "            '<a target=\"_blank\" href=https://colab.research.google.com/notebooks/data_table.ipynb>data table notebook</a>'\n",
              "            + ' to learn more about interactive tables.';\n",
              "          element.innerHTML = '';\n",
              "          dataTable['output_type'] = 'display_data';\n",
              "          await google.colab.output.renderOutput(dataTable, element);\n",
              "          const docLink = document.createElement('div');\n",
              "          docLink.innerHTML = docLinkHtml;\n",
              "          element.appendChild(docLink);\n",
              "        }\n",
              "      </script>\n",
              "    </div>\n",
              "  </div>\n",
              "  "
            ]
          },
          "metadata": {},
          "execution_count": 54
        }
      ]
    },
    {
      "cell_type": "code",
      "source": [
        "newdata.columns"
      ],
      "metadata": {
        "colab": {
          "base_uri": "https://localhost:8080/"
        },
        "id": "aFPtuxiiDpYY",
        "outputId": "e3cd566a-b16e-47ce-ef0a-33917110b714"
      },
      "execution_count": null,
      "outputs": [
        {
          "output_type": "execute_result",
          "data": {
            "text/plain": [
              "Index(['Career', 'Citizenship', 'Nationality', 'Year of Study',\n",
              "       'Primary Programme', 'Gender', 'Department', 'Housing Type',\n",
              "       'Q1-How many events have you Volunteered in ?',\n",
              "       'Q2-How many events have you Participated in ?',\n",
              "       'Q3-How many activities are you Interested in ?',\n",
              "       'Q4-How many activities are you Passionate about ?',\n",
              "       'Q5-What are your levels of stress ?',\n",
              "       'Q6-How Satisfied You are with your Student Life ?',\n",
              "       'Q7-How much effort do you make to interact with others ?',\n",
              "       'Q8-About How events are you aware about ?'],\n",
              "      dtype='object')"
            ]
          },
          "metadata": {},
          "execution_count": 55
        }
      ]
    },
    {
      "cell_type": "code",
      "source": [
        "\n",
        "newdata.info()\n"
      ],
      "metadata": {
        "colab": {
          "base_uri": "https://localhost:8080/"
        },
        "id": "b6cFSE95DsFG",
        "outputId": "6eee62a0-ce7a-437c-9af4-9d0f0decb869"
      },
      "execution_count": null,
      "outputs": [
        {
          "output_type": "stream",
          "name": "stdout",
          "text": [
            "<class 'pandas.core.frame.DataFrame'>\n",
            "RangeIndex: 2958 entries, 0 to 2957\n",
            "Data columns (total 16 columns):\n",
            " #   Column                                                    Non-Null Count  Dtype  \n",
            "---  ------                                                    --------------  -----  \n",
            " 0   Career                                                    2958 non-null   object \n",
            " 1   Citizenship                                               2958 non-null   object \n",
            " 2   Nationality                                               2958 non-null   object \n",
            " 3   Year of Study                                             2958 non-null   int64  \n",
            " 4   Primary Programme                                         2958 non-null   object \n",
            " 5   Gender                                                    2958 non-null   object \n",
            " 6   Department                                                2958 non-null   object \n",
            " 7   Housing Type                                              2958 non-null   object \n",
            " 8   Q1-How many events have you Volunteered in ?              2958 non-null   int64  \n",
            " 9   Q2-How many events have you Participated in ?             2958 non-null   int64  \n",
            " 10  Q3-How many activities are you Interested in ?            2958 non-null   int64  \n",
            " 11  Q4-How many activities are you Passionate about ?         2958 non-null   int64  \n",
            " 12  Q5-What are your levels of stress ?                       2958 non-null   int64  \n",
            " 13  Q6-How Satisfied You are with your Student Life ?         2958 non-null   int64  \n",
            " 14  Q7-How much effort do you make to interact with others ?  2958 non-null   object \n",
            " 15  Q8-About How events are you aware about ?                 2940 non-null   float64\n",
            "dtypes: float64(1), int64(7), object(8)\n",
            "memory usage: 369.9+ KB\n"
          ]
        }
      ]
    },
    {
      "cell_type": "markdown",
      "source": [
        "**Data** **Visualization**"
      ],
      "metadata": {
        "id": "RJIGElkwDvQn"
      }
    },
    {
      "cell_type": "code",
      "source": [
        "import matplotlib.pyplot as plt\n",
        "%matplotlib inline\n",
        "import seaborn as sns\n",
        "     \n",
        "\n",
        "newdata['Career'].value_counts()\n",
        "     "
      ],
      "metadata": {
        "colab": {
          "base_uri": "https://localhost:8080/"
        },
        "id": "sUbRenRmDzIH",
        "outputId": "633a292b-adfd-4c39-a27b-002b115bc3fb"
      },
      "execution_count": null,
      "outputs": [
        {
          "output_type": "execute_result",
          "data": {
            "text/plain": [
              "UGRD    2694\n",
              "GRAD     218\n",
              "NGRD      46\n",
              "Name: Career, dtype: int64"
            ]
          },
          "metadata": {},
          "execution_count": 19
        }
      ]
    },
    {
      "cell_type": "code",
      "source": [
        "newdata['Career'].value_counts().plot.pie(autopct='%.2f',figsize=(8,6),fontsize=12)\n",
        "plt.title('Career ',fontsize=16)"
      ],
      "metadata": {
        "colab": {
          "base_uri": "https://localhost:8080/",
          "height": 392
        },
        "id": "4IDoycNPD5Lp",
        "outputId": "64345704-6aae-4ab8-9166-9f6349c972b0"
      },
      "execution_count": null,
      "outputs": [
        {
          "output_type": "execute_result",
          "data": {
            "text/plain": [
              "Text(0.5, 1.0, 'Career ')"
            ]
          },
          "metadata": {},
          "execution_count": 8
        },
        {
          "output_type": "display_data",
          "data": {
            "text/plain": [
              "<Figure size 576x432 with 1 Axes>"
            ],
            "image/png": "[encoded data removed]"
          },
          "metadata": {}
        }
      ]
    },
    {
      "cell_type": "code",
      "source": [
        "newdata['Citizenship'].value_counts()\n",
        "     "
      ],
      "metadata": {
        "colab": {
          "base_uri": "https://localhost:8080/"
        },
        "id": "2aqaupdcD80-",
        "outputId": "db0326af-8037-4e75-e0c7-3ae5a32f8d0d"
      },
      "execution_count": null,
      "outputs": [
        {
          "output_type": "execute_result",
          "data": {
            "text/plain": [
              "Country Citizen       2467\n",
              "Foreigner              343\n",
              "Permanent Resident     148\n",
              "Name: Citizenship, dtype: int64"
            ]
          },
          "metadata": {},
          "execution_count": 9
        }
      ]
    },
    {
      "cell_type": "code",
      "source": [
        "newdata['Citizenship'].value_counts().plot.pie(autopct='%.2f',figsize=(8,6),fontsize=12)\n",
        "plt.title('Citizenship',fontsize=16)\n",
        "#2f displays the percentage to 1 decimal place "
      ],
      "metadata": {
        "colab": {
          "base_uri": "https://localhost:8080/",
          "height": 392
        },
        "id": "fshK3Sj-EAEz",
        "outputId": "1be61d4d-cc88-4c9f-cbe0-bab3ad668bf8"
      },
      "execution_count": null,
      "outputs": [
        {
          "output_type": "execute_result",
          "data": {
            "text/plain": [
              "Text(0.5, 1.0, 'Citizenship')"
            ]
          },
          "metadata": {},
          "execution_count": 10
        },
        {
          "output_type": "display_data",
          "data": {
            "text/plain": [
              "<Figure size 576x432 with 1 Axes>"
            ],
            "image/png": "[encoded data removed]"
          },
          "metadata": {}
        }
      ]
    },
    {
      "cell_type": "code",
      "source": [
        "\n",
        "newdata['Nationality'].value_counts()"
      ],
      "metadata": {
        "colab": {
          "base_uri": "https://localhost:8080/"
        },
        "id": "LvGPlY7mECjF",
        "outputId": "4fc4d6d3-1948-41e7-924b-c4e7539a33df"
      },
      "execution_count": null,
      "outputs": [
        {
          "output_type": "execute_result",
          "data": {
            "text/plain": [
              "Singapore                    2467\n",
              "China                         158\n",
              "Malaysia                      130\n",
              "India                          47\n",
              "Indonesia                      39\n",
              "Viet Nam                       20\n",
              "Canada                         17\n",
              "United States                  15\n",
              "Taiwan                         13\n",
              "Korea, Republic of             10\n",
              "Myanmar                         7\n",
              "Hong Kong                       4\n",
              "Philippines                     3\n",
              "Germany                         3\n",
              "Thailand                        3\n",
              "United Kingdom                  2\n",
              "Japan                           2\n",
              "Sri Lanka                       2\n",
              "Nepal                           2\n",
              "Mexico                          2\n",
              "Bangladesh                      2\n",
              "Pakistan                        1\n",
              "Switzerland                     1\n",
              "Israel                          1\n",
              "Australia                       1\n",
              "British National Overseas       1\n",
              "France                          1\n",
              "Poland                          1\n",
              "Denmark                         1\n",
              "Turkey                          1\n",
              "Netherlands                     1\n",
              "Name: Nationality, dtype: int64"
            ]
          },
          "metadata": {},
          "execution_count": 11
        }
      ]
    },
    {
      "cell_type": "code",
      "source": [
        "count1=newdata['Nationality'].value_counts()\n",
        "plt.figure(figsize=(15,6))\n",
        "sns.barplot(count1.index,count1.values, alpha=0.8)\n",
        "plt.title('Nationality', fontsize=20)\n",
        "plt.ylabel('Number of Persons', fontsize=15)\n",
        "plt.xlabel('Nations', fontsize=15)\n",
        "plt.xticks(rotation=90)\n",
        "plt.show()\n",
        "     "
      ],
      "metadata": {
        "colab": {
          "base_uri": "https://localhost:8080/",
          "height": 586
        },
        "id": "XuvHtAvgEHxl",
        "outputId": "d48aacbe-4d8f-40a9-a5b9-172706ac932b"
      },
      "execution_count": null,
      "outputs": [
        {
          "output_type": "stream",
          "name": "stderr",
          "text": [
            "/usr/local/lib/python3.8/dist-packages/seaborn/_decorators.py:36: FutureWarning: Pass the following variables as keyword args: x, y. From version 0.12, the only valid positional argument will be `data`, and passing other arguments without an explicit keyword will result in an error or misinterpretation.\n",
            "  warnings.warn(\n"
          ]
        },
        {
          "output_type": "display_data",
          "data": {
            "text/plain": [
              "<Figure size 1080x432 with 1 Axes>"
            ],
            "image/png": "[encoded data removed]"
          },
          "metadata": {
            "needs_background": "light"
          }
        }
      ]
    },
    {
      "cell_type": "code",
      "source": [
        "newdata['Year of Study'].value_counts()"
      ],
      "metadata": {
        "colab": {
          "base_uri": "https://localhost:8080/"
        },
        "id": "2Kn24YwzEMdx",
        "outputId": "c77903ab-8c84-4be0-ed6d-a1bcf062fe04"
      },
      "execution_count": null,
      "outputs": [
        {
          "output_type": "execute_result",
          "data": {
            "text/plain": [
              "1    1018\n",
              "2     819\n",
              "3     635\n",
              "4     465\n",
              "5      21\n",
              "Name: Year of Study, dtype: int64"
            ]
          },
          "metadata": {},
          "execution_count": 13
        }
      ]
    },
    {
      "cell_type": "code",
      "source": [
        "newdata['Year of Study'].value_counts().plot.pie(autopct='%.2f',figsize=(8,6),fontsize=12)\n",
        "plt.title('Year Of Study',fontsize=16)"
      ],
      "metadata": {
        "colab": {
          "base_uri": "https://localhost:8080/",
          "height": 392
        },
        "id": "MFwe2dmzEP_9",
        "outputId": "7ffe9dda-b8bd-4b4c-c5e6-cbbcc602c32e"
      },
      "execution_count": null,
      "outputs": [
        {
          "output_type": "execute_result",
          "data": {
            "text/plain": [
              "Text(0.5, 1.0, 'Year Of Study')"
            ]
          },
          "metadata": {},
          "execution_count": 14
        },
        {
          "output_type": "display_data",
          "data": {
            "text/plain": [
              "<Figure size 576x432 with 1 Axes>"
            ],
            "image/png": "[encoded data removed]"
          },
          "metadata": {}
        }
      ]
    },
    {
      "cell_type": "code",
      "source": [
        "newdata['Primary Programme'].value_counts()"
      ],
      "metadata": {
        "colab": {
          "base_uri": "https://localhost:8080/"
        },
        "id": "wuVnB3C9EStE",
        "outputId": "397d7541-a356-49e5-9369-4a32e140ef3b"
      },
      "execution_count": null,
      "outputs": [
        {
          "output_type": "execute_result",
          "data": {
            "text/plain": [
              "Bachelor of Arts              609\n",
              "Bachelor of Engineering       511\n",
              "Bachelor of Science           482\n",
              "Bachelor of Business Admin    307\n",
              "Bachelor of Science (SDE)     132\n",
              "                             ... \n",
              "Doctor of Philosophy (SPP)      1\n",
              "Doctor of Philosophy (SDE)      1\n",
              "Master of Urban Planning        1\n",
              "Doctor of Philosophy (BDG)      1\n",
              "Master of Arts                  1\n",
              "Name: Primary Programme, Length: 68, dtype: int64"
            ]
          },
          "metadata": {},
          "execution_count": 15
        }
      ]
    },
    {
      "cell_type": "code",
      "source": [
        "count1=newdata['Primary Programme'].value_counts()\n",
        "plt.figure(figsize=(15,6))\n",
        "sns.barplot(count1.index,count1.values, alpha=0.8)\n",
        "plt.title('Primary Programme', fontsize=20)\n",
        "plt.ylabel('Number of Persons', fontsize=15)\n",
        "plt.xlabel('Fields', fontsize=15)\n",
        "plt.xticks(rotation=90)\n",
        "plt.show()\n",
        "     "
      ],
      "metadata": {
        "colab": {
          "base_uri": "https://localhost:8080/",
          "height": 633
        },
        "id": "mVXIt7BJEV1K",
        "outputId": "0a7af6e8-a0f2-41f5-e466-d6c2f37b41b2"
      },
      "execution_count": null,
      "outputs": [
        {
          "output_type": "stream",
          "name": "stderr",
          "text": [
            "/usr/local/lib/python3.8/dist-packages/seaborn/_decorators.py:36: FutureWarning: Pass the following variables as keyword args: x, y. From version 0.12, the only valid positional argument will be `data`, and passing other arguments without an explicit keyword will result in an error or misinterpretation.\n",
            "  warnings.warn(\n"
          ]
        },
        {
          "output_type": "display_data",
          "data": {
            "text/plain": [
              "<Figure size 1080x432 with 1 Axes>"
            ],
            "image/png": "[encoded data removed]"
          },
          "metadata": {
            "needs_background": "light"
          }
        }
      ]
    },
    {
      "cell_type": "code",
      "source": [
        "newdata['Gender'].value_counts()"
      ],
      "metadata": {
        "colab": {
          "base_uri": "https://localhost:8080/"
        },
        "id": "Wktx76bPEZvI",
        "outputId": "f7dd48d9-f677-4e2b-af2d-66b5a1472eca"
      },
      "execution_count": null,
      "outputs": [
        {
          "output_type": "execute_result",
          "data": {
            "text/plain": [
              "F    1899\n",
              "M    1059\n",
              "Name: Gender, dtype: int64"
            ]
          },
          "metadata": {},
          "execution_count": 17
        }
      ]
    },
    {
      "cell_type": "code",
      "source": [
        "\n",
        "newdata['Gender'].value_counts().plot.pie(autopct='%.2f',figsize=(8,6),fontsize=12)\n",
        "plt.title('Gender',fontsize=16)"
      ],
      "metadata": {
        "colab": {
          "base_uri": "https://localhost:8080/",
          "height": 392
        },
        "id": "yT-cSluxEfA2",
        "outputId": "3625d5f1-302c-4ada-a81c-8ab1851943fb"
      },
      "execution_count": null,
      "outputs": [
        {
          "output_type": "execute_result",
          "data": {
            "text/plain": [
              "Text(0.5, 1.0, 'Gender')"
            ]
          },
          "metadata": {},
          "execution_count": 18
        },
        {
          "output_type": "display_data",
          "data": {
            "text/plain": [
              "<Figure size 576x432 with 1 Axes>"
            ],
            "image/png": "[encoded data removed]"
          },
          "metadata": {}
        }
      ]
    },
    {
      "cell_type": "code",
      "source": [
        "#from here..\n",
        "newdata['Department'].value_counts()"
      ],
      "metadata": {
        "colab": {
          "base_uri": "https://localhost:8080/"
        },
        "id": "sDdrCcbCEkGZ",
        "outputId": "2df36561-25f5-4c29-863b-c5f8c2288a87"
      },
      "execution_count": null,
      "outputs": [
        {
          "output_type": "execute_result",
          "data": {
            "text/plain": [
              "School of Arts & Social Science           743\n",
              "School of Science                         661\n",
              "School of Engineering                     562\n",
              "School of Business School                 318\n",
              "School of Design & Environment            171\n",
              "School of Computing                       138\n",
              "School of Medicine1                       126\n",
              "School of Law                              53\n",
              "School of Exchange Students                46\n",
              "School of Multi Disciplinary Programme     31\n",
              "School of Foreign College                  30\n",
              "School of Systems Science                  19\n",
              "School of International Science            16\n",
              "School of Dentistry                        14\n",
              "School of Medicine2                        10\n",
              "School of Conservatory of Music             6\n",
              "School of Public Policy                     6\n",
              "School of Public Health                     3\n",
              "School of Cont & Lifelong Edun              3\n",
              "School of Defence System                    1\n",
              "School of Risk Management                   1\n",
              "Name: Department, dtype: int64"
            ]
          },
          "metadata": {},
          "execution_count": 4
        }
      ]
    },
    {
      "cell_type": "code",
      "source": [
        "count1=newdata['Department'].value_counts()\n",
        "plt.figure(figsize=(15,6))\n",
        "sns.barplot(count1.index,count1.values, alpha=0.8)\n",
        "plt.title('Department', fontsize=20)\n",
        "plt.ylabel('Number of Persons', fontsize=15)\n",
        "plt.xlabel('Name of the department', fontsize=15)\n",
        "plt.xticks(rotation=90)\n",
        "plt.show()"
      ],
      "metadata": {
        "colab": {
          "base_uri": "https://localhost:8080/",
          "height": 655
        },
        "id": "YJcx1mzOEoKo",
        "outputId": "b08daca4-3747-4548-ed8c-d27b1f4f527a"
      },
      "execution_count": null,
      "outputs": [
        {
          "output_type": "stream",
          "name": "stderr",
          "text": [
            "/usr/local/lib/python3.8/dist-packages/seaborn/_decorators.py:36: FutureWarning: Pass the following variables as keyword args: x, y. From version 0.12, the only valid positional argument will be `data`, and passing other arguments without an explicit keyword will result in an error or misinterpretation.\n",
            "  warnings.warn(\n"
          ]
        },
        {
          "output_type": "display_data",
          "data": {
            "text/plain": [
              "<Figure size 1080x432 with 1 Axes>"
            ],
            "image/png": "[encoded data removed]"
          },
          "metadata": {
            "needs_background": "light"
          }
        }
      ]
    },
    {
      "cell_type": "code",
      "source": [
        "count1=newdata['Q2-How many events have you Participated in ?'].value_counts()\n",
        "plt.figure(figsize=(15,6))\n",
        "sns.barplot(count1.index,count1.values, alpha=0.8)\n",
        "plt.title('How many events have you Participated in ?', fontsize=20)\n",
        "plt.ylabel('Number of Persons', fontsize=15)\n",
        "plt.xlabel('Responses', fontsize=15)\n",
        "plt.show()\n",
        "     "
      ],
      "metadata": {
        "colab": {
          "base_uri": "https://localhost:8080/",
          "height": 469
        },
        "id": "z5uHfWLrEzwK",
        "outputId": "64658b39-3d1b-4f57-e454-ddb5d0bb15ab"
      },
      "execution_count": null,
      "outputs": [
        {
          "output_type": "stream",
          "name": "stderr",
          "text": [
            "/usr/local/lib/python3.8/dist-packages/seaborn/_decorators.py:36: FutureWarning: Pass the following variables as keyword args: x, y. From version 0.12, the only valid positional argument will be `data`, and passing other arguments without an explicit keyword will result in an error or misinterpretation.\n",
            "  warnings.warn(\n"
          ]
        },
        {
          "output_type": "display_data",
          "data": {
            "text/plain": [
              "<Figure size 1080x432 with 1 Axes>"
            ],
            "image/png": "[encoded data removed]"
          },
          "metadata": {
            "needs_background": "light"
          }
        }
      ]
    },
    {
      "cell_type": "code",
      "source": [
        "count1=newdata['Q3-How many activities are you Interested in ?'].value_counts()\n",
        "plt.figure(figsize=(15,6))\n",
        "sns.barplot(count1.index,count1.values, alpha=0.8)\n",
        "plt.title('How many activities are you Interested in ?', fontsize=20)\n",
        "plt.ylabel('Number of Persons', fontsize=15)\n",
        "plt.xlabel('Responses', fontsize=15)\n",
        "plt.show()\n",
        "     "
      ],
      "metadata": {
        "colab": {
          "base_uri": "https://localhost:8080/",
          "height": 469
        },
        "id": "3VsuoLLnE5QT",
        "outputId": "0e4b2992-3625-4b8b-a2d9-f10767c62cfe"
      },
      "execution_count": null,
      "outputs": [
        {
          "output_type": "stream",
          "name": "stderr",
          "text": [
            "/usr/local/lib/python3.8/dist-packages/seaborn/_decorators.py:36: FutureWarning: Pass the following variables as keyword args: x, y. From version 0.12, the only valid positional argument will be `data`, and passing other arguments without an explicit keyword will result in an error or misinterpretation.\n",
            "  warnings.warn(\n"
          ]
        },
        {
          "output_type": "display_data",
          "data": {
            "text/plain": [
              "<Figure size 1080x432 with 1 Axes>"
            ],
            "image/png": "[encoded data removed]"
          },
          "metadata": {
            "needs_background": "light"
          }
        }
      ]
    },
    {
      "cell_type": "code",
      "source": [
        "\n",
        "count1=newdata['Q4-How many activities are you Passionate about ?'].value_counts()\n",
        "plt.figure(figsize=(15,6))\n",
        "sns.barplot(count1.index,count1.values, alpha=0.8)\n",
        "plt.title('How many activities are you Passionate about ?', fontsize=20)\n",
        "plt.ylabel('Number of Persons', fontsize=15)\n",
        "plt.xlabel('Responses', fontsize=15)\n",
        "plt.show()\n",
        "     "
      ],
      "metadata": {
        "colab": {
          "base_uri": "https://localhost:8080/",
          "height": 469
        },
        "id": "kwa6371VE8SK",
        "outputId": "0ea2435f-4f01-47fc-f279-0692bcea0476"
      },
      "execution_count": null,
      "outputs": [
        {
          "output_type": "stream",
          "name": "stderr",
          "text": [
            "/usr/local/lib/python3.8/dist-packages/seaborn/_decorators.py:36: FutureWarning: Pass the following variables as keyword args: x, y. From version 0.12, the only valid positional argument will be `data`, and passing other arguments without an explicit keyword will result in an error or misinterpretation.\n",
            "  warnings.warn(\n"
          ]
        },
        {
          "output_type": "display_data",
          "data": {
            "text/plain": [
              "<Figure size 1080x432 with 1 Axes>"
            ],
            "image/png": "[encoded data removed]"
          },
          "metadata": {
            "needs_background": "light"
          }
        }
      ]
    },
    {
      "cell_type": "code",
      "source": [
        "count1=newdata['Q6-How Satisfied You are with your Student Life ?'].value_counts()\n",
        "plt.figure(figsize=(15,6))\n",
        "sns.barplot(count1.index,count1.values, alpha=0.8)\n",
        "plt.title('How Satisfied You are with your Student Life ?', fontsize=20)\n",
        "plt.ylabel('Number of Persons', fontsize=15)\n",
        "plt.xlabel('Responses', fontsize=15)\n",
        "plt.show()"
      ],
      "metadata": {
        "colab": {
          "base_uri": "https://localhost:8080/",
          "height": 469
        },
        "id": "KkqJ5r-GE_ZF",
        "outputId": "ca3ef48f-ac4c-42d5-88cc-11e27c6610d4"
      },
      "execution_count": null,
      "outputs": [
        {
          "output_type": "stream",
          "name": "stderr",
          "text": [
            "/usr/local/lib/python3.8/dist-packages/seaborn/_decorators.py:36: FutureWarning: Pass the following variables as keyword args: x, y. From version 0.12, the only valid positional argument will be `data`, and passing other arguments without an explicit keyword will result in an error or misinterpretation.\n",
            "  warnings.warn(\n"
          ]
        },
        {
          "output_type": "display_data",
          "data": {
            "text/plain": [
              "<Figure size 1080x432 with 1 Axes>"
            ],
            "image/png": "[encoded data removed]"
          },
          "metadata": {
            "needs_background": "light"
          }
        }
      ]
    },
    {
      "cell_type": "code",
      "source": [
        "count1=newdata['Q7-How much effort do you make to interact with others ?'].value_counts()\n",
        "plt.figure(figsize=(15,6))\n",
        "sns.barplot(count1.index,count1.values, alpha=0.8)\n",
        "plt.title('How much effort do you make to interact with others ?', fontsize=20)\n",
        "plt.ylabel('Number of Persons', fontsize=15)\n",
        "plt.xlabel('Responses', fontsize=15)\n",
        "plt.show()"
      ],
      "metadata": {
        "colab": {
          "base_uri": "https://localhost:8080/",
          "height": 469
        },
        "id": "BhiSiLJBFD0-",
        "outputId": "b7f448bc-681c-46c4-c367-9f4c0f8dc643"
      },
      "execution_count": null,
      "outputs": [
        {
          "output_type": "stream",
          "name": "stderr",
          "text": [
            "/usr/local/lib/python3.8/dist-packages/seaborn/_decorators.py:36: FutureWarning: Pass the following variables as keyword args: x, y. From version 0.12, the only valid positional argument will be `data`, and passing other arguments without an explicit keyword will result in an error or misinterpretation.\n",
            "  warnings.warn(\n"
          ]
        },
        {
          "output_type": "display_data",
          "data": {
            "text/plain": [
              "<Figure size 1080x432 with 1 Axes>"
            ],
            "image/png": "[encoded data removed]"
          },
          "metadata": {
            "needs_background": "light"
          }
        }
      ]
    },
    {
      "cell_type": "code",
      "source": [
        "count1=newdata['Q8-About How events are you aware about ?'].value_counts()\n",
        "plt.figure(figsize=(15,6))\n",
        "sns.barplot(count1.index,count1.values, alpha=0.8)\n",
        "plt.title('About How events are you aware about ?', fontsize=20)\n",
        "plt.ylabel('Number of Persons', fontsize=15)\n",
        "plt.xlabel('Responses', fontsize=15)\n",
        "plt.show()\n",
        "     "
      ],
      "metadata": {
        "colab": {
          "base_uri": "https://localhost:8080/",
          "height": 469
        },
        "id": "qWAt1aCYFHM5",
        "outputId": "a8f2a7c4-e38d-420d-fd0f-ea4a0cd4e67f"
      },
      "execution_count": null,
      "outputs": [
        {
          "output_type": "stream",
          "name": "stderr",
          "text": [
            "/usr/local/lib/python3.8/dist-packages/seaborn/_decorators.py:36: FutureWarning: Pass the following variables as keyword args: x, y. From version 0.12, the only valid positional argument will be `data`, and passing other arguments without an explicit keyword will result in an error or misinterpretation.\n",
            "  warnings.warn(\n"
          ]
        },
        {
          "output_type": "display_data",
          "data": {
            "text/plain": [
              "<Figure size 1080x432 with 1 Axes>"
            ],
            "image/png": "[encoded data removed]"
          },
          "metadata": {
            "needs_background": "light"
          }
        }
      ]
    },
    {
      "cell_type": "markdown",
      "source": [
        "**Data Training**"
      ],
      "metadata": {
        "id": "NpJllC3852M2"
      }
    },
    {
      "cell_type": "code",
      "source": [
        "newdata.columns"
      ],
      "metadata": {
        "colab": {
          "base_uri": "https://localhost:8080/"
        },
        "id": "8RAQPwcQ6CEd",
        "outputId": "36eb899c-0b70-4595-aa54-5ea7fa74ea7a"
      },
      "execution_count": null,
      "outputs": [
        {
          "output_type": "execute_result",
          "data": {
            "text/plain": [
              "Index(['Career', 'Citizenship', 'Nationality', 'Year of Study',\n",
              "       'Primary Programme', 'Gender', 'Department', 'Housing Type',\n",
              "       'Q1-How many events have you Volunteered in ?',\n",
              "       'Q2-How many events have you Participated in ?',\n",
              "       'Q3-How many activities are you Interested in ?',\n",
              "       'Q4-How many activities are you Passionate about ?',\n",
              "       'Q5-What are your levels of stress ?',\n",
              "       'Q6-How Satisfied You are with your Student Life ?',\n",
              "       'Q7-How much effort do you make to interact with others ?',\n",
              "       'Q8-About How events are you aware about ?'],\n",
              "      dtype='object')"
            ]
          },
          "metadata": {},
          "execution_count": 57
        }
      ]
    },
    {
      "cell_type": "code",
      "source": [
        "#dropping the unnecessary columns\n",
        "prepareddata=newdata.drop(['Career', 'Citizenship', 'Nationality', 'Year of Study','Primary Programme', 'Gender', 'Department', 'Housing Type'],axis=1)\n",
        "prepareddata"
      ],
      "metadata": {
        "colab": {
          "base_uri": "https://localhost:8080/",
          "height": 520
        },
        "id": "GPRKmAiw6SUj",
        "outputId": "767d88a3-e9f1-4b67-b786-cbf042169b1c"
      },
      "execution_count": null,
      "outputs": [
        {
          "output_type": "execute_result",
          "data": {
            "text/plain": [
              "      Q1-How many events have you Volunteered in ?  \\\n",
              "0                                                0   \n",
              "1                                                0   \n",
              "2                                                3   \n",
              "3                                                3   \n",
              "4                                                4   \n",
              "...                                            ...   \n",
              "2953                                             0   \n",
              "2954                                             1   \n",
              "2955                                             0   \n",
              "2956                                             3   \n",
              "2957                                             2   \n",
              "\n",
              "      Q2-How many events have you Participated in ?  \\\n",
              "0                                                 1   \n",
              "1                                                 1   \n",
              "2                                                 1   \n",
              "3                                                 4   \n",
              "4                                                 3   \n",
              "...                                             ...   \n",
              "2953                                              1   \n",
              "2954                                              1   \n",
              "2955                                              1   \n",
              "2956                                              2   \n",
              "2957                                              2   \n",
              "\n",
              "      Q3-How many activities are you Interested in ?  \\\n",
              "0                                                  3   \n",
              "1                                                  2   \n",
              "2                                                  1   \n",
              "3                                                  3   \n",
              "4                                                  4   \n",
              "...                                              ...   \n",
              "2953                                               5   \n",
              "2954                                               5   \n",
              "2955                                               1   \n",
              "2956                                               6   \n",
              "2957                                               4   \n",
              "\n",
              "      Q4-How many activities are you Passionate about ?  \\\n",
              "0                                                     1   \n",
              "1                                                     3   \n",
              "2                                                     5   \n",
              "3                                                     3   \n",
              "4                                                     5   \n",
              "...                                                 ...   \n",
              "2953                                                  8   \n",
              "2954                                                  2   \n",
              "2955                                                  2   \n",
              "2956                                                  2   \n",
              "2957                                                  2   \n",
              "\n",
              "      Q5-What are your levels of stress ?  \\\n",
              "0                                       1   \n",
              "1                                       1   \n",
              "2                                       2   \n",
              "3                                       7   \n",
              "4                                       4   \n",
              "...                                   ...   \n",
              "2953                                    3   \n",
              "2954                                    1   \n",
              "2955                                    1   \n",
              "2956                                    3   \n",
              "2957                                    3   \n",
              "\n",
              "      Q6-How Satisfied You are with your Student Life ?  \\\n",
              "0                                                     2   \n",
              "1                                                     2   \n",
              "2                                                     2   \n",
              "3                                                     1   \n",
              "4                                                     2   \n",
              "...                                                 ...   \n",
              "2953                                                  2   \n",
              "2954                                                  2   \n",
              "2955                                                  3   \n",
              "2956                                                  3   \n",
              "2957                                                  2   \n",
              "\n",
              "     Q7-How much effort do you make to interact with others ?  \\\n",
              "0                                                   2.0         \n",
              "1                                                   2.0         \n",
              "2                                                   2.0         \n",
              "3                                                   1.0         \n",
              "4                                                   2.0         \n",
              "...                                                 ...         \n",
              "2953                                                  2         \n",
              "2954                                                  2         \n",
              "2955                                                  2         \n",
              "2956                                                  2         \n",
              "2957                                                  2         \n",
              "\n",
              "      Q8-About How events are you aware about ?  \n",
              "0                                           2.0  \n",
              "1                                           3.0  \n",
              "2                                           2.0  \n",
              "3                                           1.0  \n",
              "4                                           2.0  \n",
              "...                                         ...  \n",
              "2953                                        NaN  \n",
              "2954                                        NaN  \n",
              "2955                                        NaN  \n",
              "2956                                        NaN  \n",
              "2957                                        NaN  \n",
              "\n",
              "[2958 rows x 8 columns]"
            ],
            "text/html": [
              "\n",
              "  <div id=\"df-c0d494a5-2103-4172-b09f-8af6015f8b28\">\n",
              "    <div class=\"colab-df-container\">\n",
              "      <div>\n",
              "<style scoped>\n",
              "    .dataframe tbody tr th:only-of-type {\n",
              "        vertical-align: middle;\n",
              "    }\n",
              "\n",
              "    .dataframe tbody tr th {\n",
              "        vertical-align: top;\n",
              "    }\n",
              "\n",
              "    .dataframe thead th {\n",
              "        text-align: right;\n",
              "    }\n",
              "</style>\n",
              "<table border=\"1\" class=\"dataframe\">\n",
              "  <thead>\n",
              "    <tr style=\"text-align: right;\">\n",
              "      <th></th>\n",
              "      <th>Q1-How many events have you Volunteered in ?</th>\n",
              "      <th>Q2-How many events have you Participated in ?</th>\n",
              "      <th>Q3-How many activities are you Interested in ?</th>\n",
              "      <th>Q4-How many activities are you Passionate about ?</th>\n",
              "      <th>Q5-What are your levels of stress ?</th>\n",
              "      <th>Q6-How Satisfied You are with your Student Life ?</th>\n",
              "      <th>Q7-How much effort do you make to interact with others ?</th>\n",
              "      <th>Q8-About How events are you aware about ?</th>\n",
              "    </tr>\n",
              "  </thead>\n",
              "  <tbody>\n",
              "    <tr>\n",
              "      <th>0</th>\n",
              "      <td>0</td>\n",
              "      <td>1</td>\n",
              "      <td>3</td>\n",
              "      <td>1</td>\n",
              "      <td>1</td>\n",
              "      <td>2</td>\n",
              "      <td>2.0</td>\n",
              "      <td>2.0</td>\n",
              "    </tr>\n",
              "    <tr>\n",
              "      <th>1</th>\n",
              "      <td>0</td>\n",
              "      <td>1</td>\n",
              "      <td>2</td>\n",
              "      <td>3</td>\n",
              "      <td>1</td>\n",
              "      <td>2</td>\n",
              "      <td>2.0</td>\n",
              "      <td>3.0</td>\n",
              "    </tr>\n",
              "    <tr>\n",
              "      <th>2</th>\n",
              "      <td>3</td>\n",
              "      <td>1</td>\n",
              "      <td>1</td>\n",
              "      <td>5</td>\n",
              "      <td>2</td>\n",
              "      <td>2</td>\n",
              "      <td>2.0</td>\n",
              "      <td>2.0</td>\n",
              "    </tr>\n",
              "    <tr>\n",
              "      <th>3</th>\n",
              "      <td>3</td>\n",
              "      <td>4</td>\n",
              "      <td>3</td>\n",
              "      <td>3</td>\n",
              "      <td>7</td>\n",
              "      <td>1</td>\n",
              "      <td>1.0</td>\n",
              "      <td>1.0</td>\n",
              "    </tr>\n",
              "    <tr>\n",
              "      <th>4</th>\n",
              "      <td>4</td>\n",
              "      <td>3</td>\n",
              "      <td>4</td>\n",
              "      <td>5</td>\n",
              "      <td>4</td>\n",
              "      <td>2</td>\n",
              "      <td>2.0</td>\n",
              "      <td>2.0</td>\n",
              "    </tr>\n",
              "    <tr>\n",
              "      <th>...</th>\n",
              "      <td>...</td>\n",
              "      <td>...</td>\n",
              "      <td>...</td>\n",
              "      <td>...</td>\n",
              "      <td>...</td>\n",
              "      <td>...</td>\n",
              "      <td>...</td>\n",
              "      <td>...</td>\n",
              "    </tr>\n",
              "    <tr>\n",
              "      <th>2953</th>\n",
              "      <td>0</td>\n",
              "      <td>1</td>\n",
              "      <td>5</td>\n",
              "      <td>8</td>\n",
              "      <td>3</td>\n",
              "      <td>2</td>\n",
              "      <td>2</td>\n",
              "      <td>NaN</td>\n",
              "    </tr>\n",
              "    <tr>\n",
              "      <th>2954</th>\n",
              "      <td>1</td>\n",
              "      <td>1</td>\n",
              "      <td>5</td>\n",
              "      <td>2</td>\n",
              "      <td>1</td>\n",
              "      <td>2</td>\n",
              "      <td>2</td>\n",
              "      <td>NaN</td>\n",
              "    </tr>\n",
              "    <tr>\n",
              "      <th>2955</th>\n",
              "      <td>0</td>\n",
              "      <td>1</td>\n",
              "      <td>1</td>\n",
              "      <td>2</td>\n",
              "      <td>1</td>\n",
              "      <td>3</td>\n",
              "      <td>2</td>\n",
              "      <td>NaN</td>\n",
              "    </tr>\n",
              "    <tr>\n",
              "      <th>2956</th>\n",
              "      <td>3</td>\n",
              "      <td>2</td>\n",
              "      <td>6</td>\n",
              "      <td>2</td>\n",
              "      <td>3</td>\n",
              "      <td>3</td>\n",
              "      <td>2</td>\n",
              "      <td>NaN</td>\n",
              "    </tr>\n",
              "    <tr>\n",
              "      <th>2957</th>\n",
              "      <td>2</td>\n",
              "      <td>2</td>\n",
              "      <td>4</td>\n",
              "      <td>2</td>\n",
              "      <td>3</td>\n",
              "      <td>2</td>\n",
              "      <td>2</td>\n",
              "      <td>NaN</td>\n",
              "    </tr>\n",
              "  </tbody>\n",
              "</table>\n",
              "<p>2958 rows × 8 columns</p>\n",
              "</div>\n",
              "      <button class=\"colab-df-convert\" onclick=\"convertToInteractive('df-c0d494a5-2103-4172-b09f-8af6015f8b28')\"\n",
              "              title=\"Convert this dataframe to an interactive table.\"\n",
              "              style=\"display:none;\">\n",
              "        \n",
              "  <svg xmlns=\"http://www.w3.org/2000/svg\" height=\"24px\"viewBox=\"0 0 24 24\"\n",
              "       width=\"24px\">\n",
              "    <path d=\"M0 0h24v24H0V0z\" fill=\"none\"/>\n",
              "    <path d=\"M18.56 5.44l.94 2.06.94-2.06 2.06-.94-2.06-.94-.94-2.06-.94 2.06-2.06.94zm-11 1L8.5 8.5l.94-2.06 2.06-.94-2.06-.94L8.5 2.5l-.94 2.06-2.06.94zm10 10l.94 2.06.94-2.06 2.06-.94-2.06-.94-.94-2.06-.94 2.06-2.06.94z\"/><path d=\"M17.41 7.96l-1.37-1.37c-.4-.4-.92-.59-1.43-.59-.52 0-1.04.2-1.43.59L10.3 9.45l-7.72 7.72c-.78.78-.78 2.05 0 2.83L4 21.41c.39.39.9.59 1.41.59.51 0 1.02-.2 1.41-.59l7.78-7.78 2.81-2.81c.8-.78.8-2.07 0-2.86zM5.41 20L4 18.59l7.72-7.72 1.47 1.35L5.41 20z\"/>\n",
              "  </svg>\n",
              "      </button>\n",
              "      \n",
              "  <style>\n",
              "    .colab-df-container {\n",
              "      display:flex;\n",
              "      flex-wrap:wrap;\n",
              "      gap: 12px;\n",
              "    }\n",
              "\n",
              "    .colab-df-convert {\n",
              "      background-color: #E8F0FE;\n",
              "      border: none;\n",
              "      border-radius: 50%;\n",
              "      cursor: pointer;\n",
              "      display: none;\n",
              "      fill: #1967D2;\n",
              "      height: 32px;\n",
              "      padding: 0 0 0 0;\n",
              "      width: 32px;\n",
              "    }\n",
              "\n",
              "    .colab-df-convert:hover {\n",
              "      background-color: #E2EBFA;\n",
              "      box-shadow: 0px 1px 2px rgba(60, 64, 67, 0.3), 0px 1px 3px 1px rgba(60, 64, 67, 0.15);\n",
              "      fill: #174EA6;\n",
              "    }\n",
              "\n",
              "    [theme=dark] .colab-df-convert {\n",
              "      background-color: #3B4455;\n",
              "      fill: #D2E3FC;\n",
              "    }\n",
              "\n",
              "    [theme=dark] .colab-df-convert:hover {\n",
              "      background-color: #434B5C;\n",
              "      box-shadow: 0px 1px 3px 1px rgba(0, 0, 0, 0.15);\n",
              "      filter: drop-shadow(0px 1px 2px rgba(0, 0, 0, 0.3));\n",
              "      fill: #FFFFFF;\n",
              "    }\n",
              "  </style>\n",
              "\n",
              "      <script>\n",
              "        const buttonEl =\n",
              "          document.querySelector('#df-c0d494a5-2103-4172-b09f-8af6015f8b28 button.colab-df-convert');\n",
              "        buttonEl.style.display =\n",
              "          google.colab.kernel.accessAllowed ? 'block' : 'none';\n",
              "\n",
              "        async function convertToInteractive(key) {\n",
              "          const element = document.querySelector('#df-c0d494a5-2103-4172-b09f-8af6015f8b28');\n",
              "          const dataTable =\n",
              "            await google.colab.kernel.invokeFunction('convertToInteractive',\n",
              "                                                     [key], {});\n",
              "          if (!dataTable) return;\n",
              "\n",
              "          const docLinkHtml = 'Like what you see? Visit the ' +\n",
              "            '<a target=\"_blank\" href=https://colab.research.google.com/notebooks/data_table.ipynb>data table notebook</a>'\n",
              "            + ' to learn more about interactive tables.';\n",
              "          element.innerHTML = '';\n",
              "          dataTable['output_type'] = 'display_data';\n",
              "          await google.colab.output.renderOutput(dataTable, element);\n",
              "          const docLink = document.createElement('div');\n",
              "          docLink.innerHTML = docLinkHtml;\n",
              "          element.appendChild(docLink);\n",
              "        }\n",
              "      </script>\n",
              "    </div>\n",
              "  </div>\n",
              "  "
            ]
          },
          "metadata": {},
          "execution_count": 58
        }
      ]
    },
    {
      "cell_type": "code",
      "source": [
        "prepareddata.columns\n",
        "#the data that we need for training the model."
      ],
      "metadata": {
        "colab": {
          "base_uri": "https://localhost:8080/"
        },
        "id": "pNExapUW7Y_7",
        "outputId": "57e0ae71-4b1d-4b51-def4-7cbfed6a4b8e"
      },
      "execution_count": null,
      "outputs": [
        {
          "output_type": "execute_result",
          "data": {
            "text/plain": [
              "Index(['Q1-How many events have you Volunteered in ?',\n",
              "       'Q2-How many events have you Participated in ?',\n",
              "       'Q3-How many activities are you Interested in ?',\n",
              "       'Q4-How many activities are you Passionate about ?',\n",
              "       'Q5-What are your levels of stress ?',\n",
              "       'Q6-How Satisfied You are with your Student Life ?',\n",
              "       'Q7-How much effort do you make to interact with others ?',\n",
              "       'Q8-About How events are you aware about ?'],\n",
              "      dtype='object')"
            ]
          },
          "metadata": {},
          "execution_count": 59
        }
      ]
    },
    {
      "cell_type": "code",
      "source": [
        "#converting data into int datatype to avoid errors below.\n",
        "prepareddata=prepareddata.fillna(0).astype(int)\n",
        "prepareddata.info()"
      ],
      "metadata": {
        "colab": {
          "base_uri": "https://localhost:8080/"
        },
        "id": "wuKwx-t56YGj",
        "outputId": "bc980671-341c-47b4-a1d3-4a13969a99e5"
      },
      "execution_count": null,
      "outputs": [
        {
          "output_type": "stream",
          "name": "stdout",
          "text": [
            "<class 'pandas.core.frame.DataFrame'>\n",
            "RangeIndex: 2958 entries, 0 to 2957\n",
            "Data columns (total 8 columns):\n",
            " #   Column                                                    Non-Null Count  Dtype\n",
            "---  ------                                                    --------------  -----\n",
            " 0   Q1-How many events have you Volunteered in ?              2958 non-null   int64\n",
            " 1   Q2-How many events have you Participated in ?             2958 non-null   int64\n",
            " 2   Q3-How many activities are you Interested in ?            2958 non-null   int64\n",
            " 3   Q4-How many activities are you Passionate about ?         2958 non-null   int64\n",
            " 4   Q5-What are your levels of stress ?                       2958 non-null   int64\n",
            " 5   Q6-How Satisfied You are with your Student Life ?         2958 non-null   int64\n",
            " 6   Q7-How much effort do you make to interact with others ?  2958 non-null   int64\n",
            " 7   Q8-About How events are you aware about ?                 2958 non-null   int64\n",
            "dtypes: int64(8)\n",
            "memory usage: 185.0 KB\n"
          ]
        }
      ]
    },
    {
      "cell_type": "code",
      "source": [
        "# Import train_test_split from sklearn.model_selection\n",
        "#sklearn.model_selection is used to split the data as training and testing data\n",
        "from sklearn.model_selection import train_test_split\n",
        "# Here, X is the data which will have features and y will have our target i.e. stress.\n",
        "#regression x: independent value #y dependent value #stress depends on the features\n",
        "x=prepareddata[['Q1-How many events have you Volunteered in ?',\n",
        "       'Q2-How many events have you Participated in ?',\n",
        "       'Q3-How many activities are you Interested in ?',\n",
        "       'Q4-How many activities are you Passionate about ?','Q6-How Satisfied You are with your Student Life ?',\n",
        "       'Q7-How much effort do you make to interact with others ?',\n",
        "       'Q8-About How events are you aware about ?']]  \n",
        "y=prepareddata['Q5-What are your levels of stress ?']"
      ],
      "metadata": {
        "id": "EfwYh6x37jxq"
      },
      "execution_count": null,
      "outputs": []
    },
    {
      "cell_type": "code",
      "source": [
        "# Split data into training data and testing data\n",
        "x_train, x_test, y_train, y_test = train_test_split(x, y, test_size=0.2,random_state=500) \n",
        "#Ratio used for splitting training and testing data is 8:2 respectively."
      ],
      "metadata": {
        "id": "ilfvAijV7sEh"
      },
      "execution_count": null,
      "outputs": []
    },
    {
      "cell_type": "code",
      "source": [
        "#to view length of training data.\n",
        "len(x_train)"
      ],
      "metadata": {
        "colab": {
          "base_uri": "https://localhost:8080/"
        },
        "id": "BUA5v9z_7t0x",
        "outputId": "c795e048-b03a-443a-fe2f-a49ae94d9ef0"
      },
      "execution_count": null,
      "outputs": [
        {
          "output_type": "execute_result",
          "data": {
            "text/plain": [
              "2366"
            ]
          },
          "metadata": {},
          "execution_count": 63
        }
      ]
    },
    {
      "cell_type": "code",
      "source": [
        "#to view length of testing data.\n",
        "len(x_test)"
      ],
      "metadata": {
        "colab": {
          "base_uri": "https://localhost:8080/"
        },
        "id": "kvhZhI9I7wBl",
        "outputId": "720068ad-dfb2-4bda-a416-2109cd61f7cc"
      },
      "execution_count": null,
      "outputs": [
        {
          "output_type": "execute_result",
          "data": {
            "text/plain": [
              "592"
            ]
          },
          "metadata": {},
          "execution_count": 64
        }
      ]
    },
    {
      "cell_type": "markdown",
      "source": [
        "Model Creation\n",
        "Decision Tree Regressor"
      ],
      "metadata": {
        "id": "bRtLhRDTK5pv"
      }
    },
    {
      "cell_type": "code",
      "source": [
        "# Importing decision tree regressor \n",
        "from sklearn.tree import DecisionTreeRegressor \n",
        "reg1 = DecisionTreeRegressor()\n",
        "     "
      ],
      "metadata": {
        "id": "TBp2lldIK6Zf"
      },
      "execution_count": null,
      "outputs": []
    },
    {
      "cell_type": "code",
      "source": [
        "#Fitting data into the model.\n",
        "reg1.fit(x_train, y_train)"
      ],
      "metadata": {
        "colab": {
          "base_uri": "https://localhost:8080/"
        },
        "id": "whoel19oK_5r",
        "outputId": "4d02b08d-556c-42fd-daea-626e63578241"
      },
      "execution_count": null,
      "outputs": [
        {
          "output_type": "execute_result",
          "data": {
            "text/plain": [
              "DecisionTreeRegressor()"
            ]
          },
          "metadata": {},
          "execution_count": 71
        }
      ]
    },
    {
      "cell_type": "code",
      "source": [
        "#Making predictions on Test data \n",
        "pred1 = reg1.predict(x_test)"
      ],
      "metadata": {
        "id": "lrhltVieLEtJ"
      },
      "execution_count": null,
      "outputs": []
    },
    {
      "cell_type": "code",
      "source": [
        "pred1"
      ],
      "metadata": {
        "colab": {
          "base_uri": "https://localhost:8080/"
        },
        "id": "MzegStRdQlwM",
        "outputId": "65a0fa98-b7ab-4592-b466-258ae4ccedf4"
      },
      "execution_count": null,
      "outputs": [
        {
          "output_type": "execute_result",
          "data": {
            "text/plain": [
              "array([3.25      , 3.5       , 4.        , 2.5       , 2.        ,\n",
              "       2.5       , 5.        , 4.6       , 3.33333333, 2.        ,\n",
              "       2.        , 3.25      , 1.66666667, 2.625     , 2.        ,\n",
              "       2.        , 2.        , 5.        , 3.        , 3.        ,\n",
              "       2.5       , 8.        , 4.        , 1.        , 4.        ,\n",
              "       2.        , 6.        , 3.25      , 4.        , 3.        ,\n",
              "       2.        , 1.        , 3.        , 2.4       , 2.625     ,\n",
              "       4.        , 3.66666667, 3.        , 3.        , 3.        ,\n",
              "       1.        , 2.5       , 1.        , 2.        , 2.        ,\n",
              "       1.        , 2.        , 4.        , 3.        , 3.14285714,\n",
              "       3.        , 5.        , 1.        , 4.33333333, 2.        ,\n",
              "       3.5       , 4.        , 1.        , 2.53846154, 3.5       ,\n",
              "       2.        , 2.        , 5.        , 4.66666667, 3.        ,\n",
              "       1.66666667, 3.        , 3.66666667, 4.        , 4.        ,\n",
              "       4.        , 2.        , 2.        , 2.75      , 1.83333333,\n",
              "       2.        , 5.        , 6.        , 2.5       , 2.5       ,\n",
              "       3.66666667, 3.        , 3.        , 2.        , 2.        ,\n",
              "       3.        , 4.        , 2.        , 1.        , 1.83333333,\n",
              "       2.16666667, 1.75      , 4.5       , 3.        , 1.5       ,\n",
              "       2.        , 3.        , 2.        , 3.        , 2.        ,\n",
              "       2.75      , 2.11111111, 5.        , 5.        , 3.375     ,\n",
              "       2.        , 2.        , 2.5       , 3.        , 3.5       ,\n",
              "       3.        , 3.25      , 9.        , 2.        , 7.        ,\n",
              "       5.        , 3.375     , 3.        , 1.66666667, 2.        ,\n",
              "       3.        , 2.        , 3.        , 4.        , 3.54545455,\n",
              "       3.        , 3.        , 1.        , 6.        , 5.        ,\n",
              "       2.11111111, 1.        , 4.        , 3.        , 3.11111111,\n",
              "       2.        , 6.        , 3.18181818, 6.        , 2.11111111,\n",
              "       3.        , 3.5       , 2.        , 4.        , 1.        ,\n",
              "       2.        , 4.        , 2.        , 6.        , 3.5       ,\n",
              "       3.66666667, 4.        , 3.        , 4.        , 1.        ,\n",
              "       9.        , 3.        , 5.        , 3.        , 1.        ,\n",
              "       4.        , 2.69230769, 2.        , 4.        , 3.5       ,\n",
              "       4.        , 5.        , 2.2       , 3.        , 4.        ,\n",
              "       2.375     , 6.        , 1.        , 3.54545455, 3.        ,\n",
              "       2.5       , 2.08333333, 1.        , 5.        , 1.        ,\n",
              "       1.        , 7.        , 9.        , 3.        , 3.        ,\n",
              "       3.        , 2.        , 2.09090909, 2.        , 3.        ,\n",
              "       3.        , 6.        , 1.        , 3.33333333, 2.5       ,\n",
              "       3.        , 3.        , 2.625     , 9.        , 7.        ,\n",
              "       2.69230769, 2.        , 2.5       , 3.        , 8.        ,\n",
              "       2.        , 2.16666667, 2.33333333, 3.18181818, 1.6       ,\n",
              "       4.8       , 2.28571429, 3.        , 3.        , 2.5       ,\n",
              "       1.        , 1.5       , 2.        , 3.        , 3.        ,\n",
              "       2.5       , 4.        , 3.42857143, 3.        , 1.        ,\n",
              "       2.        , 3.        , 6.        , 3.        , 4.5       ,\n",
              "       5.        , 5.        , 3.5       , 2.625     , 3.        ,\n",
              "       1.        , 1.        , 2.        , 5.        , 4.        ,\n",
              "       4.        , 4.        , 6.        , 2.28571429, 1.        ,\n",
              "       2.5       , 6.        , 3.        , 1.        , 2.        ,\n",
              "       1.        , 5.        , 2.16666667, 1.        , 3.        ,\n",
              "       3.        , 1.        , 1.        , 3.        , 1.25      ,\n",
              "       2.        , 1.        , 2.        , 6.        , 5.        ,\n",
              "       2.        , 2.625     , 6.        , 3.        , 2.        ,\n",
              "       5.        , 3.        , 4.        , 3.125     , 2.        ,\n",
              "       5.        , 2.        , 3.33333333, 2.75      , 2.5       ,\n",
              "       3.66666667, 2.        , 3.42857143, 3.        , 2.        ,\n",
              "       6.        , 4.        , 5.        , 1.        , 2.        ,\n",
              "       7.        , 5.        , 2.5       , 5.        , 4.        ,\n",
              "       3.25      , 2.625     , 2.        , 2.33333333, 2.        ,\n",
              "       2.        , 1.        , 0.        , 4.6       , 1.        ,\n",
              "       6.        , 3.33333333, 4.        , 6.        , 2.66666667,\n",
              "       2.        , 3.54545455, 1.6       , 5.        , 2.        ,\n",
              "       6.        , 2.375     , 2.        , 5.        , 2.28571429,\n",
              "       1.        , 3.        , 3.5       , 2.        , 1.        ,\n",
              "       6.        , 2.16666667, 2.5       , 3.        , 2.        ,\n",
              "       3.66666667, 2.        , 6.        , 3.        , 2.        ,\n",
              "       2.        , 6.        , 4.        , 5.        , 2.        ,\n",
              "       3.        , 6.        , 3.        , 3.        , 3.        ,\n",
              "       5.        , 2.        , 2.11111111, 2.        , 3.        ,\n",
              "       3.        , 1.        , 7.        , 3.        , 2.5       ,\n",
              "       2.53846154, 8.        , 3.        , 1.57142857, 6.        ,\n",
              "       2.        , 2.        , 2.5       , 1.2       , 3.33333333,\n",
              "       3.        , 2.        , 3.125     , 9.        , 2.        ,\n",
              "       2.        , 4.        , 3.33333333, 2.        , 3.        ,\n",
              "       2.5       , 2.        , 5.        , 3.        , 1.        ,\n",
              "       3.        , 2.        , 5.        , 1.        , 2.        ,\n",
              "       3.        , 3.        , 3.        , 3.        , 2.28571429,\n",
              "       3.        , 4.        , 3.        , 6.        , 1.        ,\n",
              "       3.        , 2.        , 4.        , 4.66666667, 3.        ,\n",
              "       3.11111111, 1.5       , 2.        , 3.        , 2.        ,\n",
              "       4.        , 2.        , 1.66666667, 3.5       , 1.76923077,\n",
              "       5.        , 2.66666667, 3.        , 4.        , 2.        ,\n",
              "       2.        , 1.        , 2.        , 2.5       , 2.375     ,\n",
              "       1.        , 3.        , 2.        , 2.16666667, 2.        ,\n",
              "       5.        , 3.        , 3.        , 4.        , 3.        ,\n",
              "       2.        , 3.        , 2.5       , 2.625     , 4.5       ,\n",
              "       2.        , 4.        , 3.        , 2.        , 0.        ,\n",
              "       2.5       , 3.        , 3.        , 3.5       , 4.        ,\n",
              "       3.76923077, 2.69230769, 1.66666667, 2.        , 2.5       ,\n",
              "       3.        , 1.        , 2.        , 1.6       , 1.        ,\n",
              "       4.66666667, 2.        , 4.        , 3.        , 1.6       ,\n",
              "       2.        , 4.        , 3.125     , 3.        , 1.        ,\n",
              "       5.        , 5.        , 6.        , 1.        , 5.        ,\n",
              "       2.5       , 2.        , 3.        , 3.25      , 2.        ,\n",
              "       3.        , 2.8       , 0.        , 2.4       , 6.        ,\n",
              "       6.        , 2.11111111, 2.        , 2.        , 4.        ,\n",
              "       3.        , 2.        , 6.        , 9.        , 2.5       ,\n",
              "       3.        , 2.33333333, 5.        , 3.        , 3.        ,\n",
              "       2.5       , 6.        , 2.        , 2.        , 2.        ,\n",
              "       2.4       , 3.        , 1.        , 2.28571429, 3.5       ,\n",
              "       2.        , 6.        , 2.        , 3.        , 4.33333333,\n",
              "       4.        , 2.        , 2.        , 4.        , 0.        ,\n",
              "       3.        , 2.5       , 3.25      , 2.33333333, 4.        ,\n",
              "       5.        , 9.        , 1.        , 2.6       , 3.5       ,\n",
              "       2.33333333, 1.        , 3.        , 2.        , 5.        ,\n",
              "       2.        , 5.2       , 2.        , 2.        , 0.        ,\n",
              "       4.        , 2.        , 6.        , 2.5       , 3.        ,\n",
              "       3.        , 1.        , 2.        , 6.        , 1.5       ,\n",
              "       5.        , 3.25      , 5.        , 3.33333333, 3.        ,\n",
              "       4.5       , 2.66666667, 6.        , 2.33333333, 2.        ,\n",
              "       2.        , 2.08333333, 2.5       , 2.66666667, 2.        ,\n",
              "       1.        , 2.        , 6.        , 2.5       , 1.66666667,\n",
              "       3.33333333, 5.        , 2.        , 2.        , 2.        ,\n",
              "       2.        , 2.        , 2.        , 2.        , 5.        ,\n",
              "       2.66666667, 1.        , 2.08333333, 3.        , 1.        ,\n",
              "       5.        , 3.33333333, 4.        , 2.        , 6.        ,\n",
              "       1.        , 4.66666667, 7.        , 1.        , 3.5       ,\n",
              "       2.        , 1.        ])"
            ]
          },
          "metadata": {},
          "execution_count": 73
        }
      ]
    },
    {
      "cell_type": "code",
      "source": [
        "print(\"Accuracy of the Decision Tree Regressor  model comes to be: \\n \") \n",
        "print(reg1.score(x_train,y_train))"
      ],
      "metadata": {
        "colab": {
          "base_uri": "https://localhost:8080/"
        },
        "id": "dFmQMDBxQo5w",
        "outputId": "eb066d9c-87ee-4d82-d1a6-4a989f703ace"
      },
      "execution_count": null,
      "outputs": [
        {
          "output_type": "stream",
          "name": "stdout",
          "text": [
            "Accuracy of the Decision Tree Regressor  model comes to be: \n",
            " \n",
            "0.72705396742828\n"
          ]
        }
      ]
    },
    {
      "cell_type": "markdown",
      "source": [
        "**Random Forest Regressor**"
      ],
      "metadata": {
        "id": "GZcn7KhRRN6C"
      }
    },
    {
      "cell_type": "code",
      "source": [
        "#Importing random forest regressor \n",
        "from sklearn.ensemble import RandomForestRegressor \n",
        "reg2 = RandomForestRegressor(n_estimators=100)"
      ],
      "metadata": {
        "id": "aus8u_G2RSns"
      },
      "execution_count": null,
      "outputs": []
    },
    {
      "cell_type": "code",
      "source": [
        "# Fitting data into the model.\n",
        "reg2.fit(x_train, y_train)"
      ],
      "metadata": {
        "colab": {
          "base_uri": "https://localhost:8080/"
        },
        "id": "L2xkQ1_TRVck",
        "outputId": "32852642-32a0-4112-e5cd-ba96cc37234e"
      },
      "execution_count": null,
      "outputs": [
        {
          "output_type": "execute_result",
          "data": {
            "text/plain": [
              "RandomForestRegressor()"
            ]
          },
          "metadata": {},
          "execution_count": 76
        }
      ]
    },
    {
      "cell_type": "code",
      "source": [
        "\n",
        "#making predictions.\n",
        "pred2 = reg2.predict(x_test)"
      ],
      "metadata": {
        "id": "kF8D_EayRZPe"
      },
      "execution_count": null,
      "outputs": []
    },
    {
      "cell_type": "code",
      "source": [
        "pred2"
      ],
      "metadata": {
        "colab": {
          "base_uri": "https://localhost:8080/"
        },
        "id": "TZ9Rl8npRb7r",
        "outputId": "6cac9ae6-0533-47ee-8b7f-b672f4ffa086"
      },
      "execution_count": null,
      "outputs": [
        {
          "output_type": "execute_result",
          "data": {
            "text/plain": [
              "array([3.24969286, 3.07333333, 3.91166667, 2.42122222, 1.94693169,\n",
              "       2.43469561, 5.51      , 4.58984199, 3.40811722, 4.0145    ,\n",
              "       3.95166667, 2.10492857, 1.67965476, 2.67835503, 1.88758333,\n",
              "       3.51566667, 2.54983333, 4.8853254 , 3.00077381, 2.923     ,\n",
              "       2.57719317, 3.53166667, 3.56960317, 1.82266667, 3.49166667,\n",
              "       2.02666936, 5.12487698, 3.24969286, 3.60241332, 3.0029849 ,\n",
              "       5.883     , 1.41938095, 2.92      , 2.38009524, 2.58248224,\n",
              "       3.60241332, 3.50530357, 3.0029849 , 3.66016667, 3.65188095,\n",
              "       2.07583333, 2.35578571, 2.13192857, 2.84583333, 2.89683333,\n",
              "       1.82266667, 2.22435714, 3.92      , 3.15911905, 3.33582864,\n",
              "       3.065     , 3.79166667, 1.93733333, 4.43285967, 1.925     ,\n",
              "       3.44734615, 3.64761905, 2.97      , 2.53251706, 3.59364286,\n",
              "       3.57      , 3.22595238, 4.8       , 4.60265152, 2.74155556,\n",
              "       1.7520243 , 2.98116667, 3.54438095, 3.94118939, 4.16166667,\n",
              "       3.26836325, 3.45228571, 2.41255628, 2.84939683, 1.85868018,\n",
              "       1.80333333, 4.74      , 4.09      , 2.561     , 2.88188889,\n",
              "       3.52306638, 3.18625   , 4.29      , 3.74583333, 2.69792857,\n",
              "       3.68583333, 4.08614286, 2.61219048, 2.9175    , 1.85868018,\n",
              "       2.1428438 , 1.77091667, 3.88361905, 3.0029849 , 1.75276923,\n",
              "       2.32414986, 3.0029849 , 2.61587302, 2.73123626, 3.3255    ,\n",
              "       2.68212302, 2.19935641, 4.7       , 3.76261905, 3.24964019,\n",
              "       2.87333333, 2.83      , 3.2070235 , 3.95427778, 3.44734615,\n",
              "       4.598     , 3.15325   , 5.61      , 2.00611546, 3.829     ,\n",
              "       3.39633333, 3.24964019, 2.8455    , 1.7520243 , 3.15395238,\n",
              "       3.22583333, 3.3255    , 3.05478968, 3.39066667, 3.56443057,\n",
              "       3.266     , 2.32006999, 2.6182381 , 4.3325    , 2.76166667,\n",
              "       2.19935641, 1.06833333, 2.66716667, 3.04866667, 2.62103968,\n",
              "       2.57133333, 3.20166667, 3.25149474, 5.15766667, 2.19935641,\n",
              "       3.7175    , 3.44734615, 1.94693169, 2.515     , 2.8375    ,\n",
              "       4.27      , 2.94395238, 3.17042857, 4.47650794, 3.03466667,\n",
              "       3.52306638, 3.08221429, 3.185     , 2.68066667, 2.27833333,\n",
              "       5.85      , 4.75166667, 3.69540476, 2.97737821, 1.73233333,\n",
              "       3.85416667, 2.67114204, 2.115     , 3.795     , 3.42765873,\n",
              "       3.8702381 , 4.94397222, 2.17337698, 3.0029849 , 3.52083333,\n",
              "       2.37626725, 3.71166667, 3.49      , 3.56443057, 2.94452966,\n",
              "       2.42122222, 2.06628529, 2.89893939, 3.85166667, 2.30805556,\n",
              "       2.6       , 4.48      , 4.61      , 3.27      , 2.77433333,\n",
              "       3.78614286, 2.13379794, 2.08386035, 2.566     , 3.80066667,\n",
              "       2.86566667, 4.62066667, 2.16271429, 3.2064881 , 2.47339502,\n",
              "       3.28466667, 3.54502778, 2.58248224, 5.328     , 3.5       ,\n",
              "       2.67114204, 3.97      , 2.65334921, 3.83085714, 3.93611111,\n",
              "       2.85533333, 2.1428438 , 2.37880952, 3.25149474, 2.17768315,\n",
              "       4.79884127, 2.2857006 , 3.10370707, 4.46      , 2.48742244,\n",
              "       2.45966667, 3.0975    , 2.92019228, 3.0029849 , 3.1045    ,\n",
              "       2.52966667, 3.8       , 3.42190765, 2.68580844, 1.49378571,\n",
              "       3.33983333, 2.81969048, 4.54      , 3.20245238, 3.88361905,\n",
              "       3.93266667, 3.176     , 3.4090119 , 2.58248224, 2.94452966,\n",
              "       1.88223016, 1.76834701, 2.10137255, 4.04666667, 4.41878571,\n",
              "       4.48666667, 3.29866667, 4.96577778, 2.2857006 , 1.032     ,\n",
              "       2.42122222, 5.05891667, 3.01333333, 1.33967745, 2.41255628,\n",
              "       2.4025    , 5.00690476, 2.23546537, 1.80932143, 3.0029849 ,\n",
              "       3.64083333, 2.79      , 1.65083333, 3.0029849 , 1.8135    ,\n",
              "       2.59438095, 1.06833333, 2.04953984, 4.11210317, 4.25783333,\n",
              "       2.463     , 2.67835503, 5.01583333, 3.34983333, 2.74651587,\n",
              "       4.2675    , 2.60928571, 3.89930952, 3.01407684, 2.        ,\n",
              "       3.89816667, 3.14183333, 3.37988095, 2.80532937, 2.41884921,\n",
              "       4.03516667, 3.71070635, 3.42190765, 3.64      , 2.22435714,\n",
              "       3.657     , 3.78365079, 4.1896746 , 2.88875   , 2.14802381,\n",
              "       5.78954762, 4.582     , 2.65334921, 4.05      , 3.78333333,\n",
              "       3.2873373 , 2.58248224, 2.        , 2.37880952, 2.65966667,\n",
              "       2.29333333, 1.56533333, 1.66211039, 4.58984199, 1.78      ,\n",
              "       4.95869048, 3.429     , 3.315     , 4.48      , 4.07880952,\n",
              "       3.01333333, 3.56443057, 1.68141656, 4.7575    , 3.14183333,\n",
              "       4.79      , 2.37626725, 3.47913095, 2.82788889, 2.2857006 ,\n",
              "       2.04      , 3.06806494, 3.44734615, 2.74651587, 1.13      ,\n",
              "       4.21984127, 2.1428438 , 2.60875   , 2.95      , 4.015     ,\n",
              "       3.59116667, 2.22833333, 4.80766667, 1.61438889, 3.53333333,\n",
              "       3.06      , 5.23      , 2.63966667, 3.04511905, 2.955     ,\n",
              "       2.52733333, 3.3315    , 3.0222619 , 3.48333333, 3.77      ,\n",
              "       4.5455119 , 2.29462454, 2.19935641, 2.70509524, 2.05681044,\n",
              "       3.75633333, 1.628     , 4.39166667, 3.04      , 2.23779365,\n",
              "       2.53251706, 3.37783333, 2.05681044, 1.58214119, 4.28433333,\n",
              "       1.9925    , 2.00611546, 2.47339502, 1.21078968, 3.40811722,\n",
              "       3.05833333, 2.2467013 , 3.01407684, 4.35727778, 2.        ,\n",
              "       2.6375    , 3.22486742, 3.83892857, 3.26392857, 3.00077381,\n",
              "       2.53024242, 2.01      , 3.75583333, 2.78395238, 2.84016667,\n",
              "       2.42816667, 1.94693169, 3.86      , 2.95758333, 2.14475   ,\n",
              "       3.13916667, 2.94452966, 3.05324908, 2.65204762, 2.2857006 ,\n",
              "       2.05681044, 3.72083333, 3.136     , 2.91666667, 1.45434864,\n",
              "       3.26002381, 2.425     , 4.02854762, 4.74293543, 3.09757576,\n",
              "       2.62103968, 2.49180952, 2.1513373 , 2.64666667, 2.123583  ,\n",
              "       3.41397222, 1.81666667, 2.3345    , 3.66333333, 1.80995433,\n",
              "       3.80357143, 2.77976407, 3.1045    , 3.86566667, 3.215     ,\n",
              "       2.03461364, 1.032     , 2.00611546, 3.6675    , 2.37626725,\n",
              "       3.80166667, 3.38416667, 2.726     , 2.1428438 , 2.04953984,\n",
              "       3.55820635, 2.94452966, 3.0029849 , 4.06845238, 3.00831543,\n",
              "       2.40966667, 3.04      , 2.70233333, 2.58248224, 4.31807143,\n",
              "       2.5725    , 4.08      , 2.05681044, 3.33733333, 2.21916667,\n",
              "       2.48742244, 3.15911905, 3.925     , 3.03466667, 4.02854762,\n",
              "       3.77441295, 2.67114204, 1.7520243 , 2.00666667, 2.37173413,\n",
              "       3.05166667, 2.7885    , 1.94693169, 2.17768315, 1.        ,\n",
              "       4.02426696, 2.00611546, 3.79166667, 3.10991667, 1.68141656,\n",
              "       2.895     , 3.84092857, 3.01407684, 4.81228247, 2.126     ,\n",
              "       4.37      , 4.18333333, 5.01733333, 1.45933333, 2.77257215,\n",
              "       2.88188889, 2.559     , 3.3025    , 2.10492857, 1.99400064,\n",
              "       4.10875641, 2.7902013 , 1.94133333, 2.4011746 , 2.2172619 ,\n",
              "       4.255     , 2.19935641, 3.71833333, 3.065     , 3.8275    ,\n",
              "       3.0029849 , 1.91007242, 4.0315    , 4.64666667, 2.88188889,\n",
              "       3.82      , 2.37164148, 2.6025    , 4.2       , 3.68031746,\n",
              "       2.51483333, 4.48      , 2.0625    , 1.94382701, 2.004     ,\n",
              "       2.4011746 , 3.36666667, 2.4725    , 2.2857006 , 3.4885    ,\n",
              "       2.00611546, 4.73415568, 2.34      , 3.0029849 , 4.26438095,\n",
              "       3.90436905, 1.87077381, 3.76111111, 3.97709524, 2.21916667,\n",
              "       2.58163889, 2.42122222, 3.2873373 , 2.34042356, 4.4475    ,\n",
              "       3.63583333, 7.05      , 2.82825   , 2.5606746 , 2.27877778,\n",
              "       2.37164148, 1.605     , 3.06422497, 2.955     , 4.23050794,\n",
              "       2.61633333, 4.43569841, 2.46068598, 2.00611546, 1.74516667,\n",
              "       3.87424603, 2.22435714, 3.38666667, 2.51483333, 2.94452966,\n",
              "       2.80425916, 2.79433333, 2.22      , 4.73415568, 1.83085714,\n",
              "       5.25666667, 3.2873373 , 5.36      , 3.40811722, 3.23047619,\n",
              "       5.22016667, 2.85409904, 4.52112121, 2.473     , 2.16683333,\n",
              "       2.76466667, 2.06628529, 3.13488492, 2.70142857, 3.98966667,\n",
              "       1.41938095, 2.07684524, 4.32      , 2.47235137, 1.7520243 ,\n",
              "       3.28325   , 2.56666667, 2.74651587, 3.079     , 3.18466667,\n",
              "       2.31333333, 1.88758333, 2.74651587, 2.19508   , 4.25616667,\n",
              "       2.85409904, 1.53616667, 2.06628529, 2.9475    , 1.66952381,\n",
              "       3.681     , 3.40811722, 4.97      , 2.549     , 2.7075    ,\n",
              "       2.21483333, 4.44465476, 4.155     , 3.96566667, 3.41033333,\n",
              "       2.81666667, 2.69208333])"
            ]
          },
          "metadata": {},
          "execution_count": 78
        }
      ]
    },
    {
      "cell_type": "code",
      "source": [
        "print(\"Accuracy of the Random Forest Regressor  model comes to be: \\n \") \n",
        "print(reg2.score(x_train,y_train))"
      ],
      "metadata": {
        "colab": {
          "base_uri": "https://localhost:8080/"
        },
        "id": "uIPxCz9NRkvn",
        "outputId": "d5427dac-52d5-4070-89b4-063d6885c0dd"
      },
      "execution_count": null,
      "outputs": [
        {
          "output_type": "stream",
          "name": "stdout",
          "text": [
            "Accuracy of the Random Forest Regressor  model comes to be: \n",
            " \n",
            "0.6489069535663454\n"
          ]
        }
      ]
    },
    {
      "cell_type": "code",
      "source": [
        "import numpy as np\n",
        "from sklearn.metrics import mean_squared_error\n",
        "print(\"Model\\t\\t\\t RootMeanSquareError \\t\\t Accuracy of the model\") \n",
        "print(\"\"\"Decision Tree Regressor\\t\\t {:.4f} \\t \\t\\t {:.4f}\"\"\".format(  np.sqrt(mean_squared_error(y_test, pred1)), reg1.score(x_train,y_train)))\n",
        "print(\"\"\"Random Forest Regressor\\t\\t {:.4f} \\t \\t\\t {:.4f}\"\"\".format(  np.sqrt(mean_squared_error(y_test, pred2)), reg2.score(x_train,y_train)))\n",
        "#print(\"\"\"Ridge Regression\\t\\t {:.4f} \\t \\t\\t {:.4f}\"\"\".format(  np.sqrt(mean_squared_error(y_test, pred3)), reg3.score(x_train,y_train)))"
      ],
      "metadata": {
        "colab": {
          "base_uri": "https://localhost:8080/"
        },
        "id": "_LQeOr1aRrG9",
        "outputId": "a96b14c3-3fb3-4087-c23c-f9fd7f0a50af"
      },
      "execution_count": null,
      "outputs": [
        {
          "output_type": "stream",
          "name": "stdout",
          "text": [
            "Model\t\t\t RootMeanSquareError \t\t Accuracy of the model\n",
            "Decision Tree Regressor\t\t 2.2088 \t \t\t 0.7271\n",
            "Random Forest Regressor\t\t 1.8135 \t \t\t 0.6489\n"
          ]
        }
      ]
    }
  ]
}